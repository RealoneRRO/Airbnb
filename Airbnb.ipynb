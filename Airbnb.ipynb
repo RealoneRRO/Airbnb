{
 "cells": [
  {
   "cell_type": "code",
   "execution_count": 1167,
   "id": "018f935f",
   "metadata": {},
   "outputs": [],
   "source": [
    "import pandas as pd\n",
    "import numpy as np\n",
    "import seaborn as sns\n",
    "\n",
    "from matplotlib import pyplot as plt\n",
    "%matplotlib inline"
   ]
  },
  {
   "cell_type": "code",
   "execution_count": 1168,
   "id": "0372ab1e",
   "metadata": {},
   "outputs": [
    {
     "data": {
      "text/plain": [
       "48895"
      ]
     },
     "execution_count": 1168,
     "metadata": {},
     "output_type": "execute_result"
    }
   ],
   "source": [
    "import csv\n",
    "\n",
    "\n",
    "df = pd.read_csv('AB_NYC.csv')\n",
    "len(df)"
   ]
  },
  {
   "cell_type": "code",
   "execution_count": 1169,
   "id": "06f9d830",
   "metadata": {},
   "outputs": [
    {
     "data": {
      "text/html": [
       "<div>\n",
       "<style scoped>\n",
       "    .dataframe tbody tr th:only-of-type {\n",
       "        vertical-align: middle;\n",
       "    }\n",
       "\n",
       "    .dataframe tbody tr th {\n",
       "        vertical-align: top;\n",
       "    }\n",
       "\n",
       "    .dataframe thead th {\n",
       "        text-align: right;\n",
       "    }\n",
       "</style>\n",
       "<table border=\"1\" class=\"dataframe\">\n",
       "  <thead>\n",
       "    <tr style=\"text-align: right;\">\n",
       "      <th></th>\n",
       "      <th>0</th>\n",
       "      <th>1</th>\n",
       "      <th>2</th>\n",
       "      <th>3</th>\n",
       "      <th>4</th>\n",
       "      <th>5</th>\n",
       "      <th>6</th>\n",
       "      <th>7</th>\n",
       "      <th>8</th>\n",
       "      <th>9</th>\n",
       "      <th>...</th>\n",
       "      <th>48885</th>\n",
       "      <th>48886</th>\n",
       "      <th>48887</th>\n",
       "      <th>48888</th>\n",
       "      <th>48889</th>\n",
       "      <th>48890</th>\n",
       "      <th>48891</th>\n",
       "      <th>48892</th>\n",
       "      <th>48893</th>\n",
       "      <th>48894</th>\n",
       "    </tr>\n",
       "  </thead>\n",
       "  <tbody>\n",
       "    <tr>\n",
       "      <th>id</th>\n",
       "      <td>2539</td>\n",
       "      <td>2595</td>\n",
       "      <td>3647</td>\n",
       "      <td>3831</td>\n",
       "      <td>5022</td>\n",
       "      <td>5099</td>\n",
       "      <td>5121</td>\n",
       "      <td>5178</td>\n",
       "      <td>5203</td>\n",
       "      <td>5238</td>\n",
       "      <td>...</td>\n",
       "      <td>36482809</td>\n",
       "      <td>36483010</td>\n",
       "      <td>36483152</td>\n",
       "      <td>36484087</td>\n",
       "      <td>36484363</td>\n",
       "      <td>36484665</td>\n",
       "      <td>36485057</td>\n",
       "      <td>36485431</td>\n",
       "      <td>36485609</td>\n",
       "      <td>36487245</td>\n",
       "    </tr>\n",
       "    <tr>\n",
       "      <th>name</th>\n",
       "      <td>Clean &amp; quiet apt home by the park</td>\n",
       "      <td>Skylit Midtown Castle</td>\n",
       "      <td>THE VILLAGE OF HARLEM....NEW YORK !</td>\n",
       "      <td>Cozy Entire Floor of Brownstone</td>\n",
       "      <td>Entire Apt: Spacious Studio/Loft by central park</td>\n",
       "      <td>Large Cozy 1 BR Apartment In Midtown East</td>\n",
       "      <td>BlissArtsSpace!</td>\n",
       "      <td>Large Furnished Room Near B'way</td>\n",
       "      <td>Cozy Clean Guest Room - Family Apt</td>\n",
       "      <td>Cute &amp; Cozy Lower East Side 1 bdrm</td>\n",
       "      <td>...</td>\n",
       "      <td>Stunning Bedroom NYC! Walking to Central Park!!</td>\n",
       "      <td>Comfy 1 Bedroom in Midtown East</td>\n",
       "      <td>Garden Jewel Apartment in Williamsburg New York</td>\n",
       "      <td>Spacious Room w/ Private Rooftop, Central loca...</td>\n",
       "      <td>QUIT PRIVATE HOUSE</td>\n",
       "      <td>Charming one bedroom - newly renovated rowhouse</td>\n",
       "      <td>Affordable room in Bushwick/East Williamsburg</td>\n",
       "      <td>Sunny Studio at Historical Neighborhood</td>\n",
       "      <td>43rd St. Time Square-cozy single bed</td>\n",
       "      <td>Trendy duplex in the very heart of Hell's Kitchen</td>\n",
       "    </tr>\n",
       "    <tr>\n",
       "      <th>host_id</th>\n",
       "      <td>2787</td>\n",
       "      <td>2845</td>\n",
       "      <td>4632</td>\n",
       "      <td>4869</td>\n",
       "      <td>7192</td>\n",
       "      <td>7322</td>\n",
       "      <td>7356</td>\n",
       "      <td>8967</td>\n",
       "      <td>7490</td>\n",
       "      <td>7549</td>\n",
       "      <td>...</td>\n",
       "      <td>131529729</td>\n",
       "      <td>274311461</td>\n",
       "      <td>208514239</td>\n",
       "      <td>274321313</td>\n",
       "      <td>107716952</td>\n",
       "      <td>8232441</td>\n",
       "      <td>6570630</td>\n",
       "      <td>23492952</td>\n",
       "      <td>30985759</td>\n",
       "      <td>68119814</td>\n",
       "    </tr>\n",
       "    <tr>\n",
       "      <th>host_name</th>\n",
       "      <td>John</td>\n",
       "      <td>Jennifer</td>\n",
       "      <td>Elisabeth</td>\n",
       "      <td>LisaRoxanne</td>\n",
       "      <td>Laura</td>\n",
       "      <td>Chris</td>\n",
       "      <td>Garon</td>\n",
       "      <td>Shunichi</td>\n",
       "      <td>MaryEllen</td>\n",
       "      <td>Ben</td>\n",
       "      <td>...</td>\n",
       "      <td>Kendall</td>\n",
       "      <td>Scott</td>\n",
       "      <td>Melki</td>\n",
       "      <td>Kat</td>\n",
       "      <td>Michael</td>\n",
       "      <td>Sabrina</td>\n",
       "      <td>Marisol</td>\n",
       "      <td>Ilgar &amp; Aysel</td>\n",
       "      <td>Taz</td>\n",
       "      <td>Christophe</td>\n",
       "    </tr>\n",
       "    <tr>\n",
       "      <th>neighbourhood_group</th>\n",
       "      <td>Brooklyn</td>\n",
       "      <td>Manhattan</td>\n",
       "      <td>Manhattan</td>\n",
       "      <td>Brooklyn</td>\n",
       "      <td>Manhattan</td>\n",
       "      <td>Manhattan</td>\n",
       "      <td>Brooklyn</td>\n",
       "      <td>Manhattan</td>\n",
       "      <td>Manhattan</td>\n",
       "      <td>Manhattan</td>\n",
       "      <td>...</td>\n",
       "      <td>Manhattan</td>\n",
       "      <td>Manhattan</td>\n",
       "      <td>Brooklyn</td>\n",
       "      <td>Manhattan</td>\n",
       "      <td>Queens</td>\n",
       "      <td>Brooklyn</td>\n",
       "      <td>Brooklyn</td>\n",
       "      <td>Manhattan</td>\n",
       "      <td>Manhattan</td>\n",
       "      <td>Manhattan</td>\n",
       "    </tr>\n",
       "    <tr>\n",
       "      <th>neighbourhood</th>\n",
       "      <td>Kensington</td>\n",
       "      <td>Midtown</td>\n",
       "      <td>Harlem</td>\n",
       "      <td>Clinton Hill</td>\n",
       "      <td>East Harlem</td>\n",
       "      <td>Murray Hill</td>\n",
       "      <td>Bedford-Stuyvesant</td>\n",
       "      <td>Hell's Kitchen</td>\n",
       "      <td>Upper West Side</td>\n",
       "      <td>Chinatown</td>\n",
       "      <td>...</td>\n",
       "      <td>East Harlem</td>\n",
       "      <td>Midtown</td>\n",
       "      <td>Williamsburg</td>\n",
       "      <td>Hell's Kitchen</td>\n",
       "      <td>Jamaica</td>\n",
       "      <td>Bedford-Stuyvesant</td>\n",
       "      <td>Bushwick</td>\n",
       "      <td>Harlem</td>\n",
       "      <td>Hell's Kitchen</td>\n",
       "      <td>Hell's Kitchen</td>\n",
       "    </tr>\n",
       "    <tr>\n",
       "      <th>latitude</th>\n",
       "      <td>40.64749</td>\n",
       "      <td>40.75362</td>\n",
       "      <td>40.80902</td>\n",
       "      <td>40.68514</td>\n",
       "      <td>40.79851</td>\n",
       "      <td>40.74767</td>\n",
       "      <td>40.68688</td>\n",
       "      <td>40.76489</td>\n",
       "      <td>40.80178</td>\n",
       "      <td>40.71344</td>\n",
       "      <td>...</td>\n",
       "      <td>40.79633</td>\n",
       "      <td>40.75561</td>\n",
       "      <td>40.71232</td>\n",
       "      <td>40.76392</td>\n",
       "      <td>40.69137</td>\n",
       "      <td>40.67853</td>\n",
       "      <td>40.70184</td>\n",
       "      <td>40.81475</td>\n",
       "      <td>40.75751</td>\n",
       "      <td>40.76404</td>\n",
       "    </tr>\n",
       "    <tr>\n",
       "      <th>longitude</th>\n",
       "      <td>-73.97237</td>\n",
       "      <td>-73.98377</td>\n",
       "      <td>-73.9419</td>\n",
       "      <td>-73.95976</td>\n",
       "      <td>-73.94399</td>\n",
       "      <td>-73.975</td>\n",
       "      <td>-73.95596</td>\n",
       "      <td>-73.98493</td>\n",
       "      <td>-73.96723</td>\n",
       "      <td>-73.99037</td>\n",
       "      <td>...</td>\n",
       "      <td>-73.93605</td>\n",
       "      <td>-73.96723</td>\n",
       "      <td>-73.9422</td>\n",
       "      <td>-73.99183</td>\n",
       "      <td>-73.80844</td>\n",
       "      <td>-73.94995</td>\n",
       "      <td>-73.93317</td>\n",
       "      <td>-73.94867</td>\n",
       "      <td>-73.99112</td>\n",
       "      <td>-73.98933</td>\n",
       "    </tr>\n",
       "    <tr>\n",
       "      <th>room_type</th>\n",
       "      <td>Private room</td>\n",
       "      <td>Entire home/apt</td>\n",
       "      <td>Private room</td>\n",
       "      <td>Entire home/apt</td>\n",
       "      <td>Entire home/apt</td>\n",
       "      <td>Entire home/apt</td>\n",
       "      <td>Private room</td>\n",
       "      <td>Private room</td>\n",
       "      <td>Private room</td>\n",
       "      <td>Entire home/apt</td>\n",
       "      <td>...</td>\n",
       "      <td>Private room</td>\n",
       "      <td>Entire home/apt</td>\n",
       "      <td>Entire home/apt</td>\n",
       "      <td>Private room</td>\n",
       "      <td>Private room</td>\n",
       "      <td>Private room</td>\n",
       "      <td>Private room</td>\n",
       "      <td>Entire home/apt</td>\n",
       "      <td>Shared room</td>\n",
       "      <td>Private room</td>\n",
       "    </tr>\n",
       "    <tr>\n",
       "      <th>price</th>\n",
       "      <td>149</td>\n",
       "      <td>225</td>\n",
       "      <td>150</td>\n",
       "      <td>89</td>\n",
       "      <td>80</td>\n",
       "      <td>200</td>\n",
       "      <td>60</td>\n",
       "      <td>79</td>\n",
       "      <td>79</td>\n",
       "      <td>150</td>\n",
       "      <td>...</td>\n",
       "      <td>75</td>\n",
       "      <td>200</td>\n",
       "      <td>170</td>\n",
       "      <td>125</td>\n",
       "      <td>65</td>\n",
       "      <td>70</td>\n",
       "      <td>40</td>\n",
       "      <td>115</td>\n",
       "      <td>55</td>\n",
       "      <td>90</td>\n",
       "    </tr>\n",
       "    <tr>\n",
       "      <th>minimum_nights</th>\n",
       "      <td>1</td>\n",
       "      <td>1</td>\n",
       "      <td>3</td>\n",
       "      <td>1</td>\n",
       "      <td>10</td>\n",
       "      <td>3</td>\n",
       "      <td>45</td>\n",
       "      <td>2</td>\n",
       "      <td>2</td>\n",
       "      <td>1</td>\n",
       "      <td>...</td>\n",
       "      <td>2</td>\n",
       "      <td>6</td>\n",
       "      <td>1</td>\n",
       "      <td>4</td>\n",
       "      <td>1</td>\n",
       "      <td>2</td>\n",
       "      <td>4</td>\n",
       "      <td>10</td>\n",
       "      <td>1</td>\n",
       "      <td>7</td>\n",
       "    </tr>\n",
       "    <tr>\n",
       "      <th>number_of_reviews</th>\n",
       "      <td>9</td>\n",
       "      <td>45</td>\n",
       "      <td>0</td>\n",
       "      <td>270</td>\n",
       "      <td>9</td>\n",
       "      <td>74</td>\n",
       "      <td>49</td>\n",
       "      <td>430</td>\n",
       "      <td>118</td>\n",
       "      <td>160</td>\n",
       "      <td>...</td>\n",
       "      <td>0</td>\n",
       "      <td>0</td>\n",
       "      <td>0</td>\n",
       "      <td>0</td>\n",
       "      <td>0</td>\n",
       "      <td>0</td>\n",
       "      <td>0</td>\n",
       "      <td>0</td>\n",
       "      <td>0</td>\n",
       "      <td>0</td>\n",
       "    </tr>\n",
       "    <tr>\n",
       "      <th>last_review</th>\n",
       "      <td>2018-10-19</td>\n",
       "      <td>2019-05-21</td>\n",
       "      <td>NaN</td>\n",
       "      <td>2019-07-05</td>\n",
       "      <td>2018-11-19</td>\n",
       "      <td>2019-06-22</td>\n",
       "      <td>2017-10-05</td>\n",
       "      <td>2019-06-24</td>\n",
       "      <td>2017-07-21</td>\n",
       "      <td>2019-06-09</td>\n",
       "      <td>...</td>\n",
       "      <td>NaN</td>\n",
       "      <td>NaN</td>\n",
       "      <td>NaN</td>\n",
       "      <td>NaN</td>\n",
       "      <td>NaN</td>\n",
       "      <td>NaN</td>\n",
       "      <td>NaN</td>\n",
       "      <td>NaN</td>\n",
       "      <td>NaN</td>\n",
       "      <td>NaN</td>\n",
       "    </tr>\n",
       "    <tr>\n",
       "      <th>reviews_per_month</th>\n",
       "      <td>0.21</td>\n",
       "      <td>0.38</td>\n",
       "      <td>NaN</td>\n",
       "      <td>4.64</td>\n",
       "      <td>0.1</td>\n",
       "      <td>0.59</td>\n",
       "      <td>0.4</td>\n",
       "      <td>3.47</td>\n",
       "      <td>0.99</td>\n",
       "      <td>1.33</td>\n",
       "      <td>...</td>\n",
       "      <td>NaN</td>\n",
       "      <td>NaN</td>\n",
       "      <td>NaN</td>\n",
       "      <td>NaN</td>\n",
       "      <td>NaN</td>\n",
       "      <td>NaN</td>\n",
       "      <td>NaN</td>\n",
       "      <td>NaN</td>\n",
       "      <td>NaN</td>\n",
       "      <td>NaN</td>\n",
       "    </tr>\n",
       "    <tr>\n",
       "      <th>calculated_host_listings_count</th>\n",
       "      <td>6</td>\n",
       "      <td>2</td>\n",
       "      <td>1</td>\n",
       "      <td>1</td>\n",
       "      <td>1</td>\n",
       "      <td>1</td>\n",
       "      <td>1</td>\n",
       "      <td>1</td>\n",
       "      <td>1</td>\n",
       "      <td>4</td>\n",
       "      <td>...</td>\n",
       "      <td>2</td>\n",
       "      <td>1</td>\n",
       "      <td>3</td>\n",
       "      <td>1</td>\n",
       "      <td>2</td>\n",
       "      <td>2</td>\n",
       "      <td>2</td>\n",
       "      <td>1</td>\n",
       "      <td>6</td>\n",
       "      <td>1</td>\n",
       "    </tr>\n",
       "    <tr>\n",
       "      <th>availability_365</th>\n",
       "      <td>365</td>\n",
       "      <td>355</td>\n",
       "      <td>365</td>\n",
       "      <td>194</td>\n",
       "      <td>0</td>\n",
       "      <td>129</td>\n",
       "      <td>0</td>\n",
       "      <td>220</td>\n",
       "      <td>0</td>\n",
       "      <td>188</td>\n",
       "      <td>...</td>\n",
       "      <td>353</td>\n",
       "      <td>176</td>\n",
       "      <td>365</td>\n",
       "      <td>31</td>\n",
       "      <td>163</td>\n",
       "      <td>9</td>\n",
       "      <td>36</td>\n",
       "      <td>27</td>\n",
       "      <td>2</td>\n",
       "      <td>23</td>\n",
       "    </tr>\n",
       "  </tbody>\n",
       "</table>\n",
       "<p>16 rows × 48895 columns</p>\n",
       "</div>"
      ],
      "text/plain": [
       "                                                             0      \\\n",
       "id                                                            2539   \n",
       "name                            Clean & quiet apt home by the park   \n",
       "host_id                                                       2787   \n",
       "host_name                                                     John   \n",
       "neighbourhood_group                                       Brooklyn   \n",
       "neighbourhood                                           Kensington   \n",
       "latitude                                                  40.64749   \n",
       "longitude                                                -73.97237   \n",
       "room_type                                             Private room   \n",
       "price                                                          149   \n",
       "minimum_nights                                                   1   \n",
       "number_of_reviews                                                9   \n",
       "last_review                                             2018-10-19   \n",
       "reviews_per_month                                             0.21   \n",
       "calculated_host_listings_count                                   6   \n",
       "availability_365                                               365   \n",
       "\n",
       "                                                1      \\\n",
       "id                                               2595   \n",
       "name                            Skylit Midtown Castle   \n",
       "host_id                                          2845   \n",
       "host_name                                    Jennifer   \n",
       "neighbourhood_group                         Manhattan   \n",
       "neighbourhood                                 Midtown   \n",
       "latitude                                     40.75362   \n",
       "longitude                                   -73.98377   \n",
       "room_type                             Entire home/apt   \n",
       "price                                             225   \n",
       "minimum_nights                                      1   \n",
       "number_of_reviews                                  45   \n",
       "last_review                                2019-05-21   \n",
       "reviews_per_month                                0.38   \n",
       "calculated_host_listings_count                      2   \n",
       "availability_365                                  355   \n",
       "\n",
       "                                                              2      \\\n",
       "id                                                             3647   \n",
       "name                            THE VILLAGE OF HARLEM....NEW YORK !   \n",
       "host_id                                                        4632   \n",
       "host_name                                                 Elisabeth   \n",
       "neighbourhood_group                                       Manhattan   \n",
       "neighbourhood                                                Harlem   \n",
       "latitude                                                   40.80902   \n",
       "longitude                                                  -73.9419   \n",
       "room_type                                              Private room   \n",
       "price                                                           150   \n",
       "minimum_nights                                                    3   \n",
       "number_of_reviews                                                 0   \n",
       "last_review                                                     NaN   \n",
       "reviews_per_month                                               NaN   \n",
       "calculated_host_listings_count                                    1   \n",
       "availability_365                                                365   \n",
       "\n",
       "                                                          3      \\\n",
       "id                                                         3831   \n",
       "name                            Cozy Entire Floor of Brownstone   \n",
       "host_id                                                    4869   \n",
       "host_name                                           LisaRoxanne   \n",
       "neighbourhood_group                                    Brooklyn   \n",
       "neighbourhood                                      Clinton Hill   \n",
       "latitude                                               40.68514   \n",
       "longitude                                             -73.95976   \n",
       "room_type                                       Entire home/apt   \n",
       "price                                                        89   \n",
       "minimum_nights                                                1   \n",
       "number_of_reviews                                           270   \n",
       "last_review                                          2019-07-05   \n",
       "reviews_per_month                                          4.64   \n",
       "calculated_host_listings_count                                1   \n",
       "availability_365                                            194   \n",
       "\n",
       "                                                                           4      \\\n",
       "id                                                                          5022   \n",
       "name                            Entire Apt: Spacious Studio/Loft by central park   \n",
       "host_id                                                                     7192   \n",
       "host_name                                                                  Laura   \n",
       "neighbourhood_group                                                    Manhattan   \n",
       "neighbourhood                                                        East Harlem   \n",
       "latitude                                                                40.79851   \n",
       "longitude                                                              -73.94399   \n",
       "room_type                                                        Entire home/apt   \n",
       "price                                                                         80   \n",
       "minimum_nights                                                                10   \n",
       "number_of_reviews                                                              9   \n",
       "last_review                                                           2018-11-19   \n",
       "reviews_per_month                                                            0.1   \n",
       "calculated_host_listings_count                                                 1   \n",
       "availability_365                                                               0   \n",
       "\n",
       "                                                                    5      \\\n",
       "id                                                                   5099   \n",
       "name                            Large Cozy 1 BR Apartment In Midtown East   \n",
       "host_id                                                              7322   \n",
       "host_name                                                           Chris   \n",
       "neighbourhood_group                                             Manhattan   \n",
       "neighbourhood                                                 Murray Hill   \n",
       "latitude                                                         40.74767   \n",
       "longitude                                                         -73.975   \n",
       "room_type                                                 Entire home/apt   \n",
       "price                                                                 200   \n",
       "minimum_nights                                                          3   \n",
       "number_of_reviews                                                      74   \n",
       "last_review                                                    2019-06-22   \n",
       "reviews_per_month                                                    0.59   \n",
       "calculated_host_listings_count                                          1   \n",
       "availability_365                                                      129   \n",
       "\n",
       "                                             6      \\\n",
       "id                                            5121   \n",
       "name                               BlissArtsSpace!   \n",
       "host_id                                       7356   \n",
       "host_name                                    Garon   \n",
       "neighbourhood_group                       Brooklyn   \n",
       "neighbourhood                   Bedford-Stuyvesant   \n",
       "latitude                                  40.68688   \n",
       "longitude                                -73.95596   \n",
       "room_type                             Private room   \n",
       "price                                           60   \n",
       "minimum_nights                                  45   \n",
       "number_of_reviews                               49   \n",
       "last_review                             2017-10-05   \n",
       "reviews_per_month                              0.4   \n",
       "calculated_host_listings_count                   1   \n",
       "availability_365                                 0   \n",
       "\n",
       "                                                           7      \\\n",
       "id                                                          5178   \n",
       "name                            Large Furnished Room Near B'way    \n",
       "host_id                                                     8967   \n",
       "host_name                                               Shunichi   \n",
       "neighbourhood_group                                    Manhattan   \n",
       "neighbourhood                                     Hell's Kitchen   \n",
       "latitude                                                40.76489   \n",
       "longitude                                              -73.98493   \n",
       "room_type                                           Private room   \n",
       "price                                                         79   \n",
       "minimum_nights                                                 2   \n",
       "number_of_reviews                                            430   \n",
       "last_review                                           2019-06-24   \n",
       "reviews_per_month                                           3.47   \n",
       "calculated_host_listings_count                                 1   \n",
       "availability_365                                             220   \n",
       "\n",
       "                                                             8      \\\n",
       "id                                                            5203   \n",
       "name                            Cozy Clean Guest Room - Family Apt   \n",
       "host_id                                                       7490   \n",
       "host_name                                                MaryEllen   \n",
       "neighbourhood_group                                      Manhattan   \n",
       "neighbourhood                                      Upper West Side   \n",
       "latitude                                                  40.80178   \n",
       "longitude                                                -73.96723   \n",
       "room_type                                             Private room   \n",
       "price                                                           79   \n",
       "minimum_nights                                                   2   \n",
       "number_of_reviews                                              118   \n",
       "last_review                                             2017-07-21   \n",
       "reviews_per_month                                             0.99   \n",
       "calculated_host_listings_count                                   1   \n",
       "availability_365                                                 0   \n",
       "\n",
       "                                                             9      ...  \\\n",
       "id                                                            5238  ...   \n",
       "name                            Cute & Cozy Lower East Side 1 bdrm  ...   \n",
       "host_id                                                       7549  ...   \n",
       "host_name                                                      Ben  ...   \n",
       "neighbourhood_group                                      Manhattan  ...   \n",
       "neighbourhood                                            Chinatown  ...   \n",
       "latitude                                                  40.71344  ...   \n",
       "longitude                                                -73.99037  ...   \n",
       "room_type                                          Entire home/apt  ...   \n",
       "price                                                          150  ...   \n",
       "minimum_nights                                                   1  ...   \n",
       "number_of_reviews                                              160  ...   \n",
       "last_review                                             2019-06-09  ...   \n",
       "reviews_per_month                                             1.33  ...   \n",
       "calculated_host_listings_count                                   4  ...   \n",
       "availability_365                                               188  ...   \n",
       "\n",
       "                                                                          48885  \\\n",
       "id                                                                     36482809   \n",
       "name                            Stunning Bedroom NYC! Walking to Central Park!!   \n",
       "host_id                                                               131529729   \n",
       "host_name                                                               Kendall   \n",
       "neighbourhood_group                                                   Manhattan   \n",
       "neighbourhood                                                       East Harlem   \n",
       "latitude                                                               40.79633   \n",
       "longitude                                                             -73.93605   \n",
       "room_type                                                          Private room   \n",
       "price                                                                        75   \n",
       "minimum_nights                                                                2   \n",
       "number_of_reviews                                                             0   \n",
       "last_review                                                                 NaN   \n",
       "reviews_per_month                                                           NaN   \n",
       "calculated_host_listings_count                                                2   \n",
       "availability_365                                                            353   \n",
       "\n",
       "                                                          48886  \\\n",
       "id                                                     36483010   \n",
       "name                            Comfy 1 Bedroom in Midtown East   \n",
       "host_id                                               274311461   \n",
       "host_name                                                 Scott   \n",
       "neighbourhood_group                                   Manhattan   \n",
       "neighbourhood                                           Midtown   \n",
       "latitude                                               40.75561   \n",
       "longitude                                             -73.96723   \n",
       "room_type                                       Entire home/apt   \n",
       "price                                                       200   \n",
       "minimum_nights                                                6   \n",
       "number_of_reviews                                             0   \n",
       "last_review                                                 NaN   \n",
       "reviews_per_month                                           NaN   \n",
       "calculated_host_listings_count                                1   \n",
       "availability_365                                            176   \n",
       "\n",
       "                                                                          48887  \\\n",
       "id                                                                     36483152   \n",
       "name                            Garden Jewel Apartment in Williamsburg New York   \n",
       "host_id                                                               208514239   \n",
       "host_name                                                                 Melki   \n",
       "neighbourhood_group                                                    Brooklyn   \n",
       "neighbourhood                                                      Williamsburg   \n",
       "latitude                                                               40.71232   \n",
       "longitude                                                              -73.9422   \n",
       "room_type                                                       Entire home/apt   \n",
       "price                                                                       170   \n",
       "minimum_nights                                                                1   \n",
       "number_of_reviews                                                             0   \n",
       "last_review                                                                 NaN   \n",
       "reviews_per_month                                                           NaN   \n",
       "calculated_host_listings_count                                                3   \n",
       "availability_365                                                            365   \n",
       "\n",
       "                                                                            48888  \\\n",
       "id                                                                       36484087   \n",
       "name                            Spacious Room w/ Private Rooftop, Central loca...   \n",
       "host_id                                                                 274321313   \n",
       "host_name                                                                     Kat   \n",
       "neighbourhood_group                                                     Manhattan   \n",
       "neighbourhood                                                      Hell's Kitchen   \n",
       "latitude                                                                 40.76392   \n",
       "longitude                                                               -73.99183   \n",
       "room_type                                                            Private room   \n",
       "price                                                                         125   \n",
       "minimum_nights                                                                  4   \n",
       "number_of_reviews                                                               0   \n",
       "last_review                                                                   NaN   \n",
       "reviews_per_month                                                             NaN   \n",
       "calculated_host_listings_count                                                  1   \n",
       "availability_365                                                               31   \n",
       "\n",
       "                                             48889  \\\n",
       "id                                        36484363   \n",
       "name                            QUIT PRIVATE HOUSE   \n",
       "host_id                                  107716952   \n",
       "host_name                                  Michael   \n",
       "neighbourhood_group                         Queens   \n",
       "neighbourhood                              Jamaica   \n",
       "latitude                                  40.69137   \n",
       "longitude                                -73.80844   \n",
       "room_type                             Private room   \n",
       "price                                           65   \n",
       "minimum_nights                                   1   \n",
       "number_of_reviews                                0   \n",
       "last_review                                    NaN   \n",
       "reviews_per_month                              NaN   \n",
       "calculated_host_listings_count                   2   \n",
       "availability_365                               163   \n",
       "\n",
       "                                                                          48890  \\\n",
       "id                                                                     36484665   \n",
       "name                            Charming one bedroom - newly renovated rowhouse   \n",
       "host_id                                                                 8232441   \n",
       "host_name                                                               Sabrina   \n",
       "neighbourhood_group                                                    Brooklyn   \n",
       "neighbourhood                                                Bedford-Stuyvesant   \n",
       "latitude                                                               40.67853   \n",
       "longitude                                                             -73.94995   \n",
       "room_type                                                          Private room   \n",
       "price                                                                        70   \n",
       "minimum_nights                                                                2   \n",
       "number_of_reviews                                                             0   \n",
       "last_review                                                                 NaN   \n",
       "reviews_per_month                                                           NaN   \n",
       "calculated_host_listings_count                                                2   \n",
       "availability_365                                                              9   \n",
       "\n",
       "                                                                        48891  \\\n",
       "id                                                                   36485057   \n",
       "name                            Affordable room in Bushwick/East Williamsburg   \n",
       "host_id                                                               6570630   \n",
       "host_name                                                             Marisol   \n",
       "neighbourhood_group                                                  Brooklyn   \n",
       "neighbourhood                                                        Bushwick   \n",
       "latitude                                                             40.70184   \n",
       "longitude                                                           -73.93317   \n",
       "room_type                                                        Private room   \n",
       "price                                                                      40   \n",
       "minimum_nights                                                              4   \n",
       "number_of_reviews                                                           0   \n",
       "last_review                                                               NaN   \n",
       "reviews_per_month                                                         NaN   \n",
       "calculated_host_listings_count                                              2   \n",
       "availability_365                                                           36   \n",
       "\n",
       "                                                                  48892  \\\n",
       "id                                                             36485431   \n",
       "name                            Sunny Studio at Historical Neighborhood   \n",
       "host_id                                                        23492952   \n",
       "host_name                                                 Ilgar & Aysel   \n",
       "neighbourhood_group                                           Manhattan   \n",
       "neighbourhood                                                    Harlem   \n",
       "latitude                                                       40.81475   \n",
       "longitude                                                     -73.94867   \n",
       "room_type                                               Entire home/apt   \n",
       "price                                                               115   \n",
       "minimum_nights                                                       10   \n",
       "number_of_reviews                                                     0   \n",
       "last_review                                                         NaN   \n",
       "reviews_per_month                                                   NaN   \n",
       "calculated_host_listings_count                                        1   \n",
       "availability_365                                                     27   \n",
       "\n",
       "                                                               48893  \\\n",
       "id                                                          36485609   \n",
       "name                            43rd St. Time Square-cozy single bed   \n",
       "host_id                                                     30985759   \n",
       "host_name                                                        Taz   \n",
       "neighbourhood_group                                        Manhattan   \n",
       "neighbourhood                                         Hell's Kitchen   \n",
       "latitude                                                    40.75751   \n",
       "longitude                                                  -73.99112   \n",
       "room_type                                                Shared room   \n",
       "price                                                             55   \n",
       "minimum_nights                                                     1   \n",
       "number_of_reviews                                                  0   \n",
       "last_review                                                      NaN   \n",
       "reviews_per_month                                                NaN   \n",
       "calculated_host_listings_count                                     6   \n",
       "availability_365                                                   2   \n",
       "\n",
       "                                                                            48894  \n",
       "id                                                                       36487245  \n",
       "name                            Trendy duplex in the very heart of Hell's Kitchen  \n",
       "host_id                                                                  68119814  \n",
       "host_name                                                              Christophe  \n",
       "neighbourhood_group                                                     Manhattan  \n",
       "neighbourhood                                                      Hell's Kitchen  \n",
       "latitude                                                                 40.76404  \n",
       "longitude                                                               -73.98933  \n",
       "room_type                                                            Private room  \n",
       "price                                                                          90  \n",
       "minimum_nights                                                                  7  \n",
       "number_of_reviews                                                               0  \n",
       "last_review                                                                   NaN  \n",
       "reviews_per_month                                                             NaN  \n",
       "calculated_host_listings_count                                                  1  \n",
       "availability_365                                                               23  \n",
       "\n",
       "[16 rows x 48895 columns]"
      ]
     },
     "execution_count": 1169,
     "metadata": {},
     "output_type": "execute_result"
    }
   ],
   "source": [
    "df.T"
   ]
  },
  {
   "cell_type": "code",
   "execution_count": 1170,
   "id": "ec867a66",
   "metadata": {},
   "outputs": [
    {
     "data": {
      "text/plain": [
       "Index(['id', 'name', 'host_id', 'host_name', 'neighbourhood_group',\n",
       "       'neighbourhood', 'latitude', 'longitude', 'room_type', 'price',\n",
       "       'minimum_nights', 'number_of_reviews', 'last_review',\n",
       "       'reviews_per_month', 'calculated_host_listings_count',\n",
       "       'availability_365'],\n",
       "      dtype='object')"
      ]
     },
     "execution_count": 1170,
     "metadata": {},
     "output_type": "execute_result"
    }
   ],
   "source": [
    "df.columns"
   ]
  },
  {
   "cell_type": "markdown",
   "id": "8acd518c",
   "metadata": {},
   "source": [
    "DATA PREPARATION\n",
    "* first thing here is by making everything on the columns consistence. In this type of data it already consistent so, we look at each columns\n",
    "* to make the object consistent, we need to get hold of them.\n",
    "* to check for some empty or null columns, so as to replace them by zero or average"
   ]
  },
  {
   "cell_type": "code",
   "execution_count": 1171,
   "id": "437ae599",
   "metadata": {},
   "outputs": [
    {
     "data": {
      "text/plain": [
       "id                                  int64\n",
       "name                               object\n",
       "host_id                             int64\n",
       "host_name                          object\n",
       "neighbourhood_group                object\n",
       "neighbourhood                      object\n",
       "latitude                          float64\n",
       "longitude                         float64\n",
       "room_type                          object\n",
       "price                               int64\n",
       "minimum_nights                      int64\n",
       "number_of_reviews                   int64\n",
       "last_review                        object\n",
       "reviews_per_month                 float64\n",
       "calculated_host_listings_count      int64\n",
       "availability_365                    int64\n",
       "dtype: object"
      ]
     },
     "execution_count": 1171,
     "metadata": {},
     "output_type": "execute_result"
    }
   ],
   "source": [
    "df.dtypes"
   ]
  },
  {
   "cell_type": "code",
   "execution_count": 1172,
   "id": "521bcaf7",
   "metadata": {},
   "outputs": [
    {
     "data": {
      "text/plain": [
       "name                   object\n",
       "host_name              object\n",
       "neighbourhood_group    object\n",
       "neighbourhood          object\n",
       "room_type              object\n",
       "last_review            object\n",
       "dtype: object"
      ]
     },
     "execution_count": 1172,
     "metadata": {},
     "output_type": "execute_result"
    }
   ],
   "source": [
    "df.dtypes[df.dtypes == \"object\"]"
   ]
  },
  {
   "cell_type": "code",
   "execution_count": 1173,
   "id": "db92a2f4",
   "metadata": {},
   "outputs": [
    {
     "data": {
      "text/plain": [
       "['name',\n",
       " 'host_name',\n",
       " 'neighbourhood_group',\n",
       " 'neighbourhood',\n",
       " 'room_type',\n",
       " 'last_review']"
      ]
     },
     "execution_count": 1173,
     "metadata": {},
     "output_type": "execute_result"
    }
   ],
   "source": [
    "string_columns = list(df.dtypes[df.dtypes == 'object'].index)\n",
    "string_columns"
   ]
  },
  {
   "cell_type": "code",
   "execution_count": 1174,
   "id": "8299b3ca",
   "metadata": {},
   "outputs": [
    {
     "data": {
      "text/html": [
       "<div>\n",
       "<style scoped>\n",
       "    .dataframe tbody tr th:only-of-type {\n",
       "        vertical-align: middle;\n",
       "    }\n",
       "\n",
       "    .dataframe tbody tr th {\n",
       "        vertical-align: top;\n",
       "    }\n",
       "\n",
       "    .dataframe thead th {\n",
       "        text-align: right;\n",
       "    }\n",
       "</style>\n",
       "<table border=\"1\" class=\"dataframe\">\n",
       "  <thead>\n",
       "    <tr style=\"text-align: right;\">\n",
       "      <th></th>\n",
       "      <th>id</th>\n",
       "      <th>host_id</th>\n",
       "      <th>latitude</th>\n",
       "      <th>longitude</th>\n",
       "      <th>price</th>\n",
       "      <th>minimum_nights</th>\n",
       "      <th>number_of_reviews</th>\n",
       "      <th>reviews_per_month</th>\n",
       "      <th>calculated_host_listings_count</th>\n",
       "      <th>availability_365</th>\n",
       "    </tr>\n",
       "  </thead>\n",
       "  <tbody>\n",
       "    <tr>\n",
       "      <th>count</th>\n",
       "      <td>4.889500e+04</td>\n",
       "      <td>4.889500e+04</td>\n",
       "      <td>48895.000000</td>\n",
       "      <td>48895.000000</td>\n",
       "      <td>48895.000000</td>\n",
       "      <td>48895.000000</td>\n",
       "      <td>48895.000000</td>\n",
       "      <td>38843.000000</td>\n",
       "      <td>48895.000000</td>\n",
       "      <td>48895.000000</td>\n",
       "    </tr>\n",
       "    <tr>\n",
       "      <th>mean</th>\n",
       "      <td>1.901714e+07</td>\n",
       "      <td>6.762001e+07</td>\n",
       "      <td>40.728949</td>\n",
       "      <td>-73.952170</td>\n",
       "      <td>152.720687</td>\n",
       "      <td>7.029962</td>\n",
       "      <td>23.274466</td>\n",
       "      <td>1.373221</td>\n",
       "      <td>7.143982</td>\n",
       "      <td>112.781327</td>\n",
       "    </tr>\n",
       "    <tr>\n",
       "      <th>std</th>\n",
       "      <td>1.098311e+07</td>\n",
       "      <td>7.861097e+07</td>\n",
       "      <td>0.054530</td>\n",
       "      <td>0.046157</td>\n",
       "      <td>240.154170</td>\n",
       "      <td>20.510550</td>\n",
       "      <td>44.550582</td>\n",
       "      <td>1.680442</td>\n",
       "      <td>32.952519</td>\n",
       "      <td>131.622289</td>\n",
       "    </tr>\n",
       "    <tr>\n",
       "      <th>min</th>\n",
       "      <td>2.539000e+03</td>\n",
       "      <td>2.438000e+03</td>\n",
       "      <td>40.499790</td>\n",
       "      <td>-74.244420</td>\n",
       "      <td>0.000000</td>\n",
       "      <td>1.000000</td>\n",
       "      <td>0.000000</td>\n",
       "      <td>0.010000</td>\n",
       "      <td>1.000000</td>\n",
       "      <td>0.000000</td>\n",
       "    </tr>\n",
       "    <tr>\n",
       "      <th>25%</th>\n",
       "      <td>9.471945e+06</td>\n",
       "      <td>7.822033e+06</td>\n",
       "      <td>40.690100</td>\n",
       "      <td>-73.983070</td>\n",
       "      <td>69.000000</td>\n",
       "      <td>1.000000</td>\n",
       "      <td>1.000000</td>\n",
       "      <td>0.190000</td>\n",
       "      <td>1.000000</td>\n",
       "      <td>0.000000</td>\n",
       "    </tr>\n",
       "    <tr>\n",
       "      <th>50%</th>\n",
       "      <td>1.967728e+07</td>\n",
       "      <td>3.079382e+07</td>\n",
       "      <td>40.723070</td>\n",
       "      <td>-73.955680</td>\n",
       "      <td>106.000000</td>\n",
       "      <td>3.000000</td>\n",
       "      <td>5.000000</td>\n",
       "      <td>0.720000</td>\n",
       "      <td>1.000000</td>\n",
       "      <td>45.000000</td>\n",
       "    </tr>\n",
       "    <tr>\n",
       "      <th>75%</th>\n",
       "      <td>2.915218e+07</td>\n",
       "      <td>1.074344e+08</td>\n",
       "      <td>40.763115</td>\n",
       "      <td>-73.936275</td>\n",
       "      <td>175.000000</td>\n",
       "      <td>5.000000</td>\n",
       "      <td>24.000000</td>\n",
       "      <td>2.020000</td>\n",
       "      <td>2.000000</td>\n",
       "      <td>227.000000</td>\n",
       "    </tr>\n",
       "    <tr>\n",
       "      <th>max</th>\n",
       "      <td>3.648724e+07</td>\n",
       "      <td>2.743213e+08</td>\n",
       "      <td>40.913060</td>\n",
       "      <td>-73.712990</td>\n",
       "      <td>10000.000000</td>\n",
       "      <td>1250.000000</td>\n",
       "      <td>629.000000</td>\n",
       "      <td>58.500000</td>\n",
       "      <td>327.000000</td>\n",
       "      <td>365.000000</td>\n",
       "    </tr>\n",
       "  </tbody>\n",
       "</table>\n",
       "</div>"
      ],
      "text/plain": [
       "                 id       host_id      latitude     longitude         price  \\\n",
       "count  4.889500e+04  4.889500e+04  48895.000000  48895.000000  48895.000000   \n",
       "mean   1.901714e+07  6.762001e+07     40.728949    -73.952170    152.720687   \n",
       "std    1.098311e+07  7.861097e+07      0.054530      0.046157    240.154170   \n",
       "min    2.539000e+03  2.438000e+03     40.499790    -74.244420      0.000000   \n",
       "25%    9.471945e+06  7.822033e+06     40.690100    -73.983070     69.000000   \n",
       "50%    1.967728e+07  3.079382e+07     40.723070    -73.955680    106.000000   \n",
       "75%    2.915218e+07  1.074344e+08     40.763115    -73.936275    175.000000   \n",
       "max    3.648724e+07  2.743213e+08     40.913060    -73.712990  10000.000000   \n",
       "\n",
       "       minimum_nights  number_of_reviews  reviews_per_month  \\\n",
       "count    48895.000000       48895.000000       38843.000000   \n",
       "mean         7.029962          23.274466           1.373221   \n",
       "std         20.510550          44.550582           1.680442   \n",
       "min          1.000000           0.000000           0.010000   \n",
       "25%          1.000000           1.000000           0.190000   \n",
       "50%          3.000000           5.000000           0.720000   \n",
       "75%          5.000000          24.000000           2.020000   \n",
       "max       1250.000000         629.000000          58.500000   \n",
       "\n",
       "       calculated_host_listings_count  availability_365  \n",
       "count                    48895.000000      48895.000000  \n",
       "mean                         7.143982        112.781327  \n",
       "std                         32.952519        131.622289  \n",
       "min                          1.000000          0.000000  \n",
       "25%                          1.000000          0.000000  \n",
       "50%                          1.000000         45.000000  \n",
       "75%                          2.000000        227.000000  \n",
       "max                        327.000000        365.000000  "
      ]
     },
     "execution_count": 1174,
     "metadata": {},
     "output_type": "execute_result"
    }
   ],
   "source": [
    "df.describe()"
   ]
  },
  {
   "cell_type": "markdown",
   "id": "83a4ef96",
   "metadata": {},
   "source": [
    "The null in the reviews per month was replaced by mean of the column."
   ]
  },
  {
   "cell_type": "code",
   "execution_count": 1175,
   "id": "67592a3d",
   "metadata": {},
   "outputs": [],
   "source": [
    "for c in ['reviews_per_month']:\n",
    "    df[c] = df[c].replace(to_replace=np.nan, value=1.37)"
   ]
  },
  {
   "cell_type": "code",
   "execution_count": 1176,
   "id": "729bece3",
   "metadata": {},
   "outputs": [
    {
     "data": {
      "text/html": [
       "<div>\n",
       "<style scoped>\n",
       "    .dataframe tbody tr th:only-of-type {\n",
       "        vertical-align: middle;\n",
       "    }\n",
       "\n",
       "    .dataframe tbody tr th {\n",
       "        vertical-align: top;\n",
       "    }\n",
       "\n",
       "    .dataframe thead th {\n",
       "        text-align: right;\n",
       "    }\n",
       "</style>\n",
       "<table border=\"1\" class=\"dataframe\">\n",
       "  <thead>\n",
       "    <tr style=\"text-align: right;\">\n",
       "      <th></th>\n",
       "      <th>id</th>\n",
       "      <th>name</th>\n",
       "      <th>host_id</th>\n",
       "      <th>host_name</th>\n",
       "      <th>neighbourhood_group</th>\n",
       "      <th>neighbourhood</th>\n",
       "      <th>latitude</th>\n",
       "      <th>longitude</th>\n",
       "      <th>room_type</th>\n",
       "      <th>price</th>\n",
       "      <th>minimum_nights</th>\n",
       "      <th>number_of_reviews</th>\n",
       "      <th>last_review</th>\n",
       "      <th>reviews_per_month</th>\n",
       "      <th>calculated_host_listings_count</th>\n",
       "      <th>availability_365</th>\n",
       "    </tr>\n",
       "  </thead>\n",
       "  <tbody>\n",
       "    <tr>\n",
       "      <th>0</th>\n",
       "      <td>2539</td>\n",
       "      <td>clean_&amp;_quiet_apt_home_by_the_park</td>\n",
       "      <td>2787</td>\n",
       "      <td>john</td>\n",
       "      <td>brooklyn</td>\n",
       "      <td>kensington</td>\n",
       "      <td>40.64749</td>\n",
       "      <td>-73.97237</td>\n",
       "      <td>private_room</td>\n",
       "      <td>149</td>\n",
       "      <td>1</td>\n",
       "      <td>9</td>\n",
       "      <td>2018-10-19</td>\n",
       "      <td>0.21</td>\n",
       "      <td>6</td>\n",
       "      <td>365</td>\n",
       "    </tr>\n",
       "    <tr>\n",
       "      <th>1</th>\n",
       "      <td>2595</td>\n",
       "      <td>skylit_midtown_castle</td>\n",
       "      <td>2845</td>\n",
       "      <td>jennifer</td>\n",
       "      <td>manhattan</td>\n",
       "      <td>midtown</td>\n",
       "      <td>40.75362</td>\n",
       "      <td>-73.98377</td>\n",
       "      <td>entire_home/apt</td>\n",
       "      <td>225</td>\n",
       "      <td>1</td>\n",
       "      <td>45</td>\n",
       "      <td>2019-05-21</td>\n",
       "      <td>0.38</td>\n",
       "      <td>2</td>\n",
       "      <td>355</td>\n",
       "    </tr>\n",
       "    <tr>\n",
       "      <th>2</th>\n",
       "      <td>3647</td>\n",
       "      <td>the_village_of_harlem....new_york_!</td>\n",
       "      <td>4632</td>\n",
       "      <td>elisabeth</td>\n",
       "      <td>manhattan</td>\n",
       "      <td>harlem</td>\n",
       "      <td>40.80902</td>\n",
       "      <td>-73.94190</td>\n",
       "      <td>private_room</td>\n",
       "      <td>150</td>\n",
       "      <td>3</td>\n",
       "      <td>0</td>\n",
       "      <td>unk</td>\n",
       "      <td>1.37</td>\n",
       "      <td>1</td>\n",
       "      <td>365</td>\n",
       "    </tr>\n",
       "    <tr>\n",
       "      <th>3</th>\n",
       "      <td>3831</td>\n",
       "      <td>cozy_entire_floor_of_brownstone</td>\n",
       "      <td>4869</td>\n",
       "      <td>lisaroxanne</td>\n",
       "      <td>brooklyn</td>\n",
       "      <td>clinton_hill</td>\n",
       "      <td>40.68514</td>\n",
       "      <td>-73.95976</td>\n",
       "      <td>entire_home/apt</td>\n",
       "      <td>89</td>\n",
       "      <td>1</td>\n",
       "      <td>270</td>\n",
       "      <td>2019-07-05</td>\n",
       "      <td>4.64</td>\n",
       "      <td>1</td>\n",
       "      <td>194</td>\n",
       "    </tr>\n",
       "    <tr>\n",
       "      <th>4</th>\n",
       "      <td>5022</td>\n",
       "      <td>entire_apt:_spacious_studio/loft_by_central_park</td>\n",
       "      <td>7192</td>\n",
       "      <td>laura</td>\n",
       "      <td>manhattan</td>\n",
       "      <td>east_harlem</td>\n",
       "      <td>40.79851</td>\n",
       "      <td>-73.94399</td>\n",
       "      <td>entire_home/apt</td>\n",
       "      <td>80</td>\n",
       "      <td>10</td>\n",
       "      <td>9</td>\n",
       "      <td>2018-11-19</td>\n",
       "      <td>0.10</td>\n",
       "      <td>1</td>\n",
       "      <td>0</td>\n",
       "    </tr>\n",
       "  </tbody>\n",
       "</table>\n",
       "</div>"
      ],
      "text/plain": [
       "     id                                              name  host_id  \\\n",
       "0  2539                clean_&_quiet_apt_home_by_the_park     2787   \n",
       "1  2595                             skylit_midtown_castle     2845   \n",
       "2  3647               the_village_of_harlem....new_york_!     4632   \n",
       "3  3831                   cozy_entire_floor_of_brownstone     4869   \n",
       "4  5022  entire_apt:_spacious_studio/loft_by_central_park     7192   \n",
       "\n",
       "     host_name neighbourhood_group neighbourhood  latitude  longitude  \\\n",
       "0         john            brooklyn    kensington  40.64749  -73.97237   \n",
       "1     jennifer           manhattan       midtown  40.75362  -73.98377   \n",
       "2    elisabeth           manhattan        harlem  40.80902  -73.94190   \n",
       "3  lisaroxanne            brooklyn  clinton_hill  40.68514  -73.95976   \n",
       "4        laura           manhattan   east_harlem  40.79851  -73.94399   \n",
       "\n",
       "         room_type  price  minimum_nights  number_of_reviews last_review  \\\n",
       "0     private_room    149               1                  9  2018-10-19   \n",
       "1  entire_home/apt    225               1                 45  2019-05-21   \n",
       "2     private_room    150               3                  0         unk   \n",
       "3  entire_home/apt     89               1                270  2019-07-05   \n",
       "4  entire_home/apt     80              10                  9  2018-11-19   \n",
       "\n",
       "   reviews_per_month  calculated_host_listings_count  availability_365  \n",
       "0               0.21                               6               365  \n",
       "1               0.38                               2               355  \n",
       "2               1.37                               1               365  \n",
       "3               4.64                               1               194  \n",
       "4               0.10                               1                 0  "
      ]
     },
     "execution_count": 1176,
     "metadata": {},
     "output_type": "execute_result"
    }
   ],
   "source": [
    "\n",
    "for col in string_columns:\n",
    "    df[col] = df[col].str.lower().str.replace(' ', '_')\n",
    "    df[col] = df[col].replace(to_replace=np.nan, value='unk')\n",
    "    \n",
    "df.head(5)"
   ]
  },
  {
   "cell_type": "code",
   "execution_count": 1177,
   "id": "5e0f8378",
   "metadata": {
    "scrolled": true
   },
   "outputs": [
    {
     "data": {
      "text/plain": [
       "id                                0\n",
       "name                              0\n",
       "host_id                           0\n",
       "host_name                         0\n",
       "neighbourhood_group               0\n",
       "neighbourhood                     0\n",
       "latitude                          0\n",
       "longitude                         0\n",
       "room_type                         0\n",
       "price                             0\n",
       "minimum_nights                    0\n",
       "number_of_reviews                 0\n",
       "last_review                       0\n",
       "reviews_per_month                 0\n",
       "calculated_host_listings_count    0\n",
       "availability_365                  0\n",
       "dtype: int64"
      ]
     },
     "execution_count": 1177,
     "metadata": {},
     "output_type": "execute_result"
    }
   ],
   "source": [
    "df.isnull().sum()"
   ]
  },
  {
   "cell_type": "code",
   "execution_count": 1178,
   "id": "0b759433",
   "metadata": {},
   "outputs": [
    {
     "data": {
      "text/plain": [
       "<Axes: xlabel='price', ylabel='Count'>"
      ]
     },
     "execution_count": 1178,
     "metadata": {},
     "output_type": "execute_result"
    },
    {
     "data": {
      "image/png": "[encoded data removed]",
      "text/plain": [
       "<Figure size 640x480 with 1 Axes>"
      ]
     },
     "metadata": {},
     "output_type": "display_data"
    }
   ],
   "source": [
    "sns.histplot(df.price, bins=10)"
   ]
  },
  {
   "cell_type": "code",
   "execution_count": 1179,
   "id": "94c45010",
   "metadata": {},
   "outputs": [
    {
     "data": {
      "text/plain": [
       "<Axes: xlabel='price', ylabel='Count'>"
      ]
     },
     "execution_count": 1179,
     "metadata": {},
     "output_type": "execute_result"
    },
    {
     "data": {
      "image/png": "[encoded data removed]",
      "text/plain": [
       "<Figure size 640x480 with 1 Axes>"
      ]
     },
     "metadata": {},
     "output_type": "display_data"
    }
   ],
   "source": [
    "sns.histplot(df.price[df.price < 1000], bins=50)"
   ]
  },
  {
   "cell_type": "code",
   "execution_count": 1180,
   "id": "0cee0e47",
   "metadata": {},
   "outputs": [
    {
     "data": {
      "text/plain": [
       "array([0.        , 0.69314718, 2.39789527, 4.61512052, 6.90875478])"
      ]
     },
     "execution_count": 1180,
     "metadata": {},
     "output_type": "execute_result"
    }
   ],
   "source": [
    "np.log1p([0, 1, 10, 100, 1000])"
   ]
  },
  {
   "cell_type": "code",
   "execution_count": 1181,
   "id": "ae2f5b55",
   "metadata": {},
   "outputs": [
    {
     "data": {
      "text/plain": [
       "array([0.        , 0.69314718, 2.39789527, 4.61512052, 6.90775528])"
      ]
     },
     "execution_count": 1181,
     "metadata": {},
     "output_type": "execute_result"
    }
   ],
   "source": [
    "np.log([0 + 1, 1 + 1, 10 + 1, 100 + 1, 1000])"
   ]
  },
  {
   "cell_type": "code",
   "execution_count": 1182,
   "id": "2c185c7c",
   "metadata": {},
   "outputs": [],
   "source": [
    "price_log = np.log1p(df.price)"
   ]
  },
  {
   "cell_type": "code",
   "execution_count": 1183,
   "id": "ffb8effc",
   "metadata": {},
   "outputs": [
    {
     "data": {
      "text/plain": [
       "<Axes: xlabel='price', ylabel='Count'>"
      ]
     },
     "execution_count": 1183,
     "metadata": {},
     "output_type": "execute_result"
    },
    {
     "data": {
      "image/png": "[encoded data removed]",
      "text/plain": [
       "<Figure size 640x480 with 1 Axes>"
      ]
     },
     "metadata": {},
     "output_type": "display_data"
    }
   ],
   "source": [
    "sns.histplot(price_log, bins=50)"
   ]
  },
  {
   "cell_type": "markdown",
   "id": "aee5249d",
   "metadata": {},
   "source": [
    "it a normal distribution, model will thrive well in this type of data"
   ]
  },
  {
   "cell_type": "markdown",
   "id": "ce240cbc",
   "metadata": {},
   "source": [
    "SETTING UP VALIDATION FRAMEWORK\n",
    "* I can either implement it myself or use scikit learn to split the dataset"
   ]
  },
  {
   "cell_type": "code",
   "execution_count": 1184,
   "id": "68a2ebe3",
   "metadata": {},
   "outputs": [],
   "source": [
    "n = len(df)\n",
    "\n",
    "n_val = int(0.2 * n)\n",
    "n_test = int(0.2 * n)\n",
    "n_train = n - (n_val + n_test)"
   ]
  },
  {
   "cell_type": "code",
   "execution_count": 1185,
   "id": "d25472ab",
   "metadata": {},
   "outputs": [
    {
     "data": {
      "text/plain": [
       "(9779, 9779, 29337)"
      ]
     },
     "execution_count": 1185,
     "metadata": {},
     "output_type": "execute_result"
    }
   ],
   "source": [
    "n_val, n_test, n_train"
   ]
  },
  {
   "cell_type": "code",
   "execution_count": 1186,
   "id": "f49f09bf",
   "metadata": {},
   "outputs": [],
   "source": [
    "np.random.seed(2) \n",
    "idx = np.arange(n) \n",
    "np.random.shuffle(idx)\n",
    "\n",
    "df_shuffled = df.iloc[idx] "
   ]
  },
  {
   "cell_type": "markdown",
   "id": "fc76f925",
   "metadata": {},
   "source": [
    "to make sure the results are reproducible, numpy array and uses the array with indices \n",
    "to get a shuffled DataFrame"
   ]
  },
  {
   "cell_type": "code",
   "execution_count": 1187,
   "id": "c2903120",
   "metadata": {},
   "outputs": [],
   "source": [
    "df_train = df_shuffled.iloc[:n_train].copy() \n",
    "df_val = df_shuffled.iloc[n_train:n_train+n_val].copy() \n",
    "df_test = df_shuffled.iloc[n_train+n_val:].copy() "
   ]
  },
  {
   "cell_type": "code",
   "execution_count": 1188,
   "id": "c46deec2",
   "metadata": {},
   "outputs": [
    {
     "data": {
      "text/html": [
       "<div>\n",
       "<style scoped>\n",
       "    .dataframe tbody tr th:only-of-type {\n",
       "        vertical-align: middle;\n",
       "    }\n",
       "\n",
       "    .dataframe tbody tr th {\n",
       "        vertical-align: top;\n",
       "    }\n",
       "\n",
       "    .dataframe thead th {\n",
       "        text-align: right;\n",
       "    }\n",
       "</style>\n",
       "<table border=\"1\" class=\"dataframe\">\n",
       "  <thead>\n",
       "    <tr style=\"text-align: right;\">\n",
       "      <th></th>\n",
       "      <th>id</th>\n",
       "      <th>name</th>\n",
       "      <th>host_id</th>\n",
       "      <th>host_name</th>\n",
       "      <th>neighbourhood_group</th>\n",
       "      <th>neighbourhood</th>\n",
       "      <th>latitude</th>\n",
       "      <th>longitude</th>\n",
       "      <th>room_type</th>\n",
       "      <th>price</th>\n",
       "      <th>minimum_nights</th>\n",
       "      <th>number_of_reviews</th>\n",
       "      <th>last_review</th>\n",
       "      <th>reviews_per_month</th>\n",
       "      <th>calculated_host_listings_count</th>\n",
       "      <th>availability_365</th>\n",
       "    </tr>\n",
       "  </thead>\n",
       "  <tbody>\n",
       "    <tr>\n",
       "      <th>4026</th>\n",
       "      <td>2530057</td>\n",
       "      <td>1bd_in_a_quiet_brownstone_in_harlem</td>\n",
       "      <td>3237558</td>\n",
       "      <td>andre</td>\n",
       "      <td>manhattan</td>\n",
       "      <td>harlem</td>\n",
       "      <td>40.81927</td>\n",
       "      <td>-73.94631</td>\n",
       "      <td>private_room</td>\n",
       "      <td>99</td>\n",
       "      <td>1</td>\n",
       "      <td>0</td>\n",
       "      <td>unk</td>\n",
       "      <td>1.37</td>\n",
       "      <td>1</td>\n",
       "      <td>0</td>\n",
       "    </tr>\n",
       "    <tr>\n",
       "      <th>47081</th>\n",
       "      <td>35580805</td>\n",
       "      <td>private,_cozy,_safe,_two_blocks_from_l_train</td>\n",
       "      <td>893308</td>\n",
       "      <td>simrit_atma</td>\n",
       "      <td>brooklyn</td>\n",
       "      <td>williamsburg</td>\n",
       "      <td>40.70519</td>\n",
       "      <td>-73.93418</td>\n",
       "      <td>private_room</td>\n",
       "      <td>75</td>\n",
       "      <td>3</td>\n",
       "      <td>1</td>\n",
       "      <td>2019-06-17</td>\n",
       "      <td>1.00</td>\n",
       "      <td>3</td>\n",
       "      <td>13</td>\n",
       "    </tr>\n",
       "    <tr>\n",
       "      <th>14278</th>\n",
       "      <td>11083362</td>\n",
       "      <td>bedroom_with_full_size_bed_in_washington_heights!</td>\n",
       "      <td>30995829</td>\n",
       "      <td>david</td>\n",
       "      <td>manhattan</td>\n",
       "      <td>washington_heights</td>\n",
       "      <td>40.84411</td>\n",
       "      <td>-73.93784</td>\n",
       "      <td>private_room</td>\n",
       "      <td>50</td>\n",
       "      <td>3</td>\n",
       "      <td>89</td>\n",
       "      <td>2019-06-13</td>\n",
       "      <td>2.54</td>\n",
       "      <td>1</td>\n",
       "      <td>113</td>\n",
       "    </tr>\n",
       "    <tr>\n",
       "      <th>45535</th>\n",
       "      <td>34813915</td>\n",
       "      <td>beauty_apt_,shared_room_in_hell's_kitchen_6</td>\n",
       "      <td>262360035</td>\n",
       "      <td>kuzey</td>\n",
       "      <td>manhattan</td>\n",
       "      <td>hell's_kitchen</td>\n",
       "      <td>40.76558</td>\n",
       "      <td>-73.98785</td>\n",
       "      <td>shared_room</td>\n",
       "      <td>75</td>\n",
       "      <td>1</td>\n",
       "      <td>3</td>\n",
       "      <td>2019-06-30</td>\n",
       "      <td>1.76</td>\n",
       "      <td>6</td>\n",
       "      <td>365</td>\n",
       "    </tr>\n",
       "    <tr>\n",
       "      <th>30276</th>\n",
       "      <td>23378281</td>\n",
       "      <td>spacious_loft_bedroom_in_brooklyn_with_2_beds</td>\n",
       "      <td>160721088</td>\n",
       "      <td>nigel</td>\n",
       "      <td>brooklyn</td>\n",
       "      <td>east_flatbush</td>\n",
       "      <td>40.63571</td>\n",
       "      <td>-73.92398</td>\n",
       "      <td>private_room</td>\n",
       "      <td>150</td>\n",
       "      <td>5</td>\n",
       "      <td>1</td>\n",
       "      <td>2019-04-24</td>\n",
       "      <td>0.39</td>\n",
       "      <td>1</td>\n",
       "      <td>0</td>\n",
       "    </tr>\n",
       "    <tr>\n",
       "      <th>...</th>\n",
       "      <td>...</td>\n",
       "      <td>...</td>\n",
       "      <td>...</td>\n",
       "      <td>...</td>\n",
       "      <td>...</td>\n",
       "      <td>...</td>\n",
       "      <td>...</td>\n",
       "      <td>...</td>\n",
       "      <td>...</td>\n",
       "      <td>...</td>\n",
       "      <td>...</td>\n",
       "      <td>...</td>\n",
       "      <td>...</td>\n",
       "      <td>...</td>\n",
       "      <td>...</td>\n",
       "      <td>...</td>\n",
       "    </tr>\n",
       "    <tr>\n",
       "      <th>44566</th>\n",
       "      <td>34305085</td>\n",
       "      <td>splendid_loft_6bed/3bath_-_steps_to_central_park</td>\n",
       "      <td>258249038</td>\n",
       "      <td>joseph_luis</td>\n",
       "      <td>manhattan</td>\n",
       "      <td>upper_west_side</td>\n",
       "      <td>40.79641</td>\n",
       "      <td>-73.96253</td>\n",
       "      <td>entire_home/apt</td>\n",
       "      <td>589</td>\n",
       "      <td>5</td>\n",
       "      <td>4</td>\n",
       "      <td>2019-06-26</td>\n",
       "      <td>4.00</td>\n",
       "      <td>1</td>\n",
       "      <td>109</td>\n",
       "    </tr>\n",
       "    <tr>\n",
       "      <th>30280</th>\n",
       "      <td>23379996</td>\n",
       "      <td>all_that_you_need._1_bedroom_in_shared_apt.</td>\n",
       "      <td>35475017</td>\n",
       "      <td>danielle</td>\n",
       "      <td>manhattan</td>\n",
       "      <td>chinatown</td>\n",
       "      <td>40.71473</td>\n",
       "      <td>-73.99091</td>\n",
       "      <td>private_room</td>\n",
       "      <td>62</td>\n",
       "      <td>4</td>\n",
       "      <td>7</td>\n",
       "      <td>2019-01-03</td>\n",
       "      <td>0.43</td>\n",
       "      <td>1</td>\n",
       "      <td>0</td>\n",
       "    </tr>\n",
       "    <tr>\n",
       "      <th>6637</th>\n",
       "      <td>4785105</td>\n",
       "      <td>cozy_nolita_apt_-_1_bdr_+_study</td>\n",
       "      <td>18156463</td>\n",
       "      <td>bethany</td>\n",
       "      <td>manhattan</td>\n",
       "      <td>nolita</td>\n",
       "      <td>40.72405</td>\n",
       "      <td>-73.99518</td>\n",
       "      <td>entire_home/apt</td>\n",
       "      <td>149</td>\n",
       "      <td>3</td>\n",
       "      <td>0</td>\n",
       "      <td>unk</td>\n",
       "      <td>1.37</td>\n",
       "      <td>1</td>\n",
       "      <td>0</td>\n",
       "    </tr>\n",
       "    <tr>\n",
       "      <th>35343</th>\n",
       "      <td>28039292</td>\n",
       "      <td>my_wife_is_not_used_to_the_noisy_environment._how</td>\n",
       "      <td>5687436</td>\n",
       "      <td>jane</td>\n",
       "      <td>manhattan</td>\n",
       "      <td>financial_district</td>\n",
       "      <td>40.70535</td>\n",
       "      <td>-74.01277</td>\n",
       "      <td>entire_home/apt</td>\n",
       "      <td>200</td>\n",
       "      <td>1</td>\n",
       "      <td>0</td>\n",
       "      <td>unk</td>\n",
       "      <td>1.37</td>\n",
       "      <td>1</td>\n",
       "      <td>0</td>\n",
       "    </tr>\n",
       "    <tr>\n",
       "      <th>23720</th>\n",
       "      <td>19171294</td>\n",
       "      <td>private_bedroom_w/desk_and_fridge,_close_to_jfk</td>\n",
       "      <td>134070513</td>\n",
       "      <td>conrad</td>\n",
       "      <td>queens</td>\n",
       "      <td>cambria_heights</td>\n",
       "      <td>40.70133</td>\n",
       "      <td>-73.74212</td>\n",
       "      <td>private_room</td>\n",
       "      <td>60</td>\n",
       "      <td>1</td>\n",
       "      <td>2</td>\n",
       "      <td>2018-07-27</td>\n",
       "      <td>0.17</td>\n",
       "      <td>1</td>\n",
       "      <td>37</td>\n",
       "    </tr>\n",
       "  </tbody>\n",
       "</table>\n",
       "<p>9779 rows × 16 columns</p>\n",
       "</div>"
      ],
      "text/plain": [
       "             id                                               name    host_id  \\\n",
       "4026    2530057                1bd_in_a_quiet_brownstone_in_harlem    3237558   \n",
       "47081  35580805       private,_cozy,_safe,_two_blocks_from_l_train     893308   \n",
       "14278  11083362  bedroom_with_full_size_bed_in_washington_heights!   30995829   \n",
       "45535  34813915        beauty_apt_,shared_room_in_hell's_kitchen_6  262360035   \n",
       "30276  23378281      spacious_loft_bedroom_in_brooklyn_with_2_beds  160721088   \n",
       "...         ...                                                ...        ...   \n",
       "44566  34305085   splendid_loft_6bed/3bath_-_steps_to_central_park  258249038   \n",
       "30280  23379996        all_that_you_need._1_bedroom_in_shared_apt.   35475017   \n",
       "6637    4785105                    cozy_nolita_apt_-_1_bdr_+_study   18156463   \n",
       "35343  28039292  my_wife_is_not_used_to_the_noisy_environment._how    5687436   \n",
       "23720  19171294    private_bedroom_w/desk_and_fridge,_close_to_jfk  134070513   \n",
       "\n",
       "         host_name neighbourhood_group       neighbourhood  latitude  \\\n",
       "4026         andre           manhattan              harlem  40.81927   \n",
       "47081  simrit_atma            brooklyn        williamsburg  40.70519   \n",
       "14278        david           manhattan  washington_heights  40.84411   \n",
       "45535        kuzey           manhattan      hell's_kitchen  40.76558   \n",
       "30276        nigel            brooklyn       east_flatbush  40.63571   \n",
       "...            ...                 ...                 ...       ...   \n",
       "44566  joseph_luis           manhattan     upper_west_side  40.79641   \n",
       "30280     danielle           manhattan           chinatown  40.71473   \n",
       "6637       bethany           manhattan              nolita  40.72405   \n",
       "35343         jane           manhattan  financial_district  40.70535   \n",
       "23720       conrad              queens     cambria_heights  40.70133   \n",
       "\n",
       "       longitude        room_type  price  minimum_nights  number_of_reviews  \\\n",
       "4026   -73.94631     private_room     99               1                  0   \n",
       "47081  -73.93418     private_room     75               3                  1   \n",
       "14278  -73.93784     private_room     50               3                 89   \n",
       "45535  -73.98785      shared_room     75               1                  3   \n",
       "30276  -73.92398     private_room    150               5                  1   \n",
       "...          ...              ...    ...             ...                ...   \n",
       "44566  -73.96253  entire_home/apt    589               5                  4   \n",
       "30280  -73.99091     private_room     62               4                  7   \n",
       "6637   -73.99518  entire_home/apt    149               3                  0   \n",
       "35343  -74.01277  entire_home/apt    200               1                  0   \n",
       "23720  -73.74212     private_room     60               1                  2   \n",
       "\n",
       "      last_review  reviews_per_month  calculated_host_listings_count  \\\n",
       "4026          unk               1.37                               1   \n",
       "47081  2019-06-17               1.00                               3   \n",
       "14278  2019-06-13               2.54                               1   \n",
       "45535  2019-06-30               1.76                               6   \n",
       "30276  2019-04-24               0.39                               1   \n",
       "...           ...                ...                             ...   \n",
       "44566  2019-06-26               4.00                               1   \n",
       "30280  2019-01-03               0.43                               1   \n",
       "6637          unk               1.37                               1   \n",
       "35343         unk               1.37                               1   \n",
       "23720  2018-07-27               0.17                               1   \n",
       "\n",
       "       availability_365  \n",
       "4026                  0  \n",
       "47081                13  \n",
       "14278               113  \n",
       "45535               365  \n",
       "30276                 0  \n",
       "...                 ...  \n",
       "44566               109  \n",
       "30280                 0  \n",
       "6637                  0  \n",
       "35343                 0  \n",
       "23720                37  \n",
       "\n",
       "[9779 rows x 16 columns]"
      ]
     },
     "execution_count": 1188,
     "metadata": {},
     "output_type": "execute_result"
    }
   ],
   "source": [
    "df_test"
   ]
  },
  {
   "cell_type": "code",
   "execution_count": 1189,
   "id": "a1ce3007",
   "metadata": {},
   "outputs": [],
   "source": [
    "idx = np.arange(n)"
   ]
  },
  {
   "cell_type": "markdown",
   "id": "b6ad9341",
   "metadata": {},
   "source": [
    "to be prodicible at RANDOM"
   ]
  },
  {
   "cell_type": "code",
   "execution_count": 1190,
   "id": "6d93aac2",
   "metadata": {},
   "outputs": [],
   "source": [
    "np.random.seed(2)\n",
    "np.random.shuffle(idx)"
   ]
  },
  {
   "cell_type": "code",
   "execution_count": 1191,
   "id": "9a2484b7",
   "metadata": {},
   "outputs": [],
   "source": [
    "df_train = df.iloc[idx[:n_train]]\n",
    "df_val = df.iloc[idx[n_train:n_train+n_val]]\n",
    "df_test = df.iloc[idx[n_train+n_val:]]"
   ]
  },
  {
   "cell_type": "code",
   "execution_count": 1192,
   "id": "c295183a",
   "metadata": {},
   "outputs": [
    {
     "data": {
      "text/html": [
       "<div>\n",
       "<style scoped>\n",
       "    .dataframe tbody tr th:only-of-type {\n",
       "        vertical-align: middle;\n",
       "    }\n",
       "\n",
       "    .dataframe tbody tr th {\n",
       "        vertical-align: top;\n",
       "    }\n",
       "\n",
       "    .dataframe thead th {\n",
       "        text-align: right;\n",
       "    }\n",
       "</style>\n",
       "<table border=\"1\" class=\"dataframe\">\n",
       "  <thead>\n",
       "    <tr style=\"text-align: right;\">\n",
       "      <th></th>\n",
       "      <th>id</th>\n",
       "      <th>name</th>\n",
       "      <th>host_id</th>\n",
       "      <th>host_name</th>\n",
       "      <th>neighbourhood_group</th>\n",
       "      <th>neighbourhood</th>\n",
       "      <th>latitude</th>\n",
       "      <th>longitude</th>\n",
       "      <th>room_type</th>\n",
       "      <th>price</th>\n",
       "      <th>minimum_nights</th>\n",
       "      <th>number_of_reviews</th>\n",
       "      <th>last_review</th>\n",
       "      <th>reviews_per_month</th>\n",
       "      <th>calculated_host_listings_count</th>\n",
       "      <th>availability_365</th>\n",
       "    </tr>\n",
       "  </thead>\n",
       "  <tbody>\n",
       "    <tr>\n",
       "      <th>22043</th>\n",
       "      <td>17735101</td>\n",
       "      <td>quiet_studio_in_the_❤️of_hells_kitchen_for_1_p...</td>\n",
       "      <td>25651976</td>\n",
       "      <td>lola</td>\n",
       "      <td>manhattan</td>\n",
       "      <td>hell's_kitchen</td>\n",
       "      <td>40.76060</td>\n",
       "      <td>-73.99345</td>\n",
       "      <td>entire_home/apt</td>\n",
       "      <td>150</td>\n",
       "      <td>8</td>\n",
       "      <td>8</td>\n",
       "      <td>2019-01-02</td>\n",
       "      <td>0.30</td>\n",
       "      <td>1</td>\n",
       "      <td>11</td>\n",
       "    </tr>\n",
       "    <tr>\n",
       "      <th>39679</th>\n",
       "      <td>30888624</td>\n",
       "      <td>cozy_2_bed_room_gramercy,_new_york</td>\n",
       "      <td>146607158</td>\n",
       "      <td>jason</td>\n",
       "      <td>manhattan</td>\n",
       "      <td>kips_bay</td>\n",
       "      <td>40.73879</td>\n",
       "      <td>-73.98135</td>\n",
       "      <td>entire_home/apt</td>\n",
       "      <td>220</td>\n",
       "      <td>2</td>\n",
       "      <td>1</td>\n",
       "      <td>2018-12-19</td>\n",
       "      <td>0.15</td>\n",
       "      <td>1</td>\n",
       "      <td>0</td>\n",
       "    </tr>\n",
       "    <tr>\n",
       "      <th>45220</th>\n",
       "      <td>34607651</td>\n",
       "      <td>comfortable_home_for_all_your_needs!!!</td>\n",
       "      <td>173311396</td>\n",
       "      <td>lyuba</td>\n",
       "      <td>manhattan</td>\n",
       "      <td>east_harlem</td>\n",
       "      <td>40.80013</td>\n",
       "      <td>-73.93742</td>\n",
       "      <td>entire_home/apt</td>\n",
       "      <td>150</td>\n",
       "      <td>1</td>\n",
       "      <td>5</td>\n",
       "      <td>2019-06-23</td>\n",
       "      <td>2.88</td>\n",
       "      <td>1</td>\n",
       "      <td>21</td>\n",
       "    </tr>\n",
       "    <tr>\n",
       "      <th>26853</th>\n",
       "      <td>21295942</td>\n",
       "      <td>modern,_bright,_2_br/2_bath,_clinton_hill,_bklyn</td>\n",
       "      <td>137389534</td>\n",
       "      <td>abby</td>\n",
       "      <td>brooklyn</td>\n",
       "      <td>bedford-stuyvesant</td>\n",
       "      <td>40.68583</td>\n",
       "      <td>-73.95870</td>\n",
       "      <td>entire_home/apt</td>\n",
       "      <td>265</td>\n",
       "      <td>4</td>\n",
       "      <td>16</td>\n",
       "      <td>2019-06-27</td>\n",
       "      <td>0.77</td>\n",
       "      <td>1</td>\n",
       "      <td>144</td>\n",
       "    </tr>\n",
       "    <tr>\n",
       "      <th>7366</th>\n",
       "      <td>5434655</td>\n",
       "      <td>new_york_city_dreaming_-_upper_west</td>\n",
       "      <td>3810454</td>\n",
       "      <td>michael</td>\n",
       "      <td>manhattan</td>\n",
       "      <td>upper_west_side</td>\n",
       "      <td>40.79584</td>\n",
       "      <td>-73.97156</td>\n",
       "      <td>entire_home/apt</td>\n",
       "      <td>185</td>\n",
       "      <td>3</td>\n",
       "      <td>0</td>\n",
       "      <td>unk</td>\n",
       "      <td>1.37</td>\n",
       "      <td>1</td>\n",
       "      <td>0</td>\n",
       "    </tr>\n",
       "  </tbody>\n",
       "</table>\n",
       "</div>"
      ],
      "text/plain": [
       "             id                                               name    host_id  \\\n",
       "22043  17735101  quiet_studio_in_the_❤️of_hells_kitchen_for_1_p...   25651976   \n",
       "39679  30888624                 cozy_2_bed_room_gramercy,_new_york  146607158   \n",
       "45220  34607651             comfortable_home_for_all_your_needs!!!  173311396   \n",
       "26853  21295942   modern,_bright,_2_br/2_bath,_clinton_hill,_bklyn  137389534   \n",
       "7366    5434655                new_york_city_dreaming_-_upper_west    3810454   \n",
       "\n",
       "      host_name neighbourhood_group       neighbourhood  latitude  longitude  \\\n",
       "22043      lola           manhattan      hell's_kitchen  40.76060  -73.99345   \n",
       "39679     jason           manhattan            kips_bay  40.73879  -73.98135   \n",
       "45220     lyuba           manhattan         east_harlem  40.80013  -73.93742   \n",
       "26853      abby            brooklyn  bedford-stuyvesant  40.68583  -73.95870   \n",
       "7366    michael           manhattan     upper_west_side  40.79584  -73.97156   \n",
       "\n",
       "             room_type  price  minimum_nights  number_of_reviews last_review  \\\n",
       "22043  entire_home/apt    150               8                  8  2019-01-02   \n",
       "39679  entire_home/apt    220               2                  1  2018-12-19   \n",
       "45220  entire_home/apt    150               1                  5  2019-06-23   \n",
       "26853  entire_home/apt    265               4                 16  2019-06-27   \n",
       "7366   entire_home/apt    185               3                  0         unk   \n",
       "\n",
       "       reviews_per_month  calculated_host_listings_count  availability_365  \n",
       "22043               0.30                               1                11  \n",
       "39679               0.15                               1                 0  \n",
       "45220               2.88                               1                21  \n",
       "26853               0.77                               1               144  \n",
       "7366                1.37                               1                 0  "
      ]
     },
     "execution_count": 1192,
     "metadata": {},
     "output_type": "execute_result"
    }
   ],
   "source": [
    "df_train.head()"
   ]
  },
  {
   "cell_type": "code",
   "execution_count": 1193,
   "id": "d6c86e37",
   "metadata": {},
   "outputs": [
    {
     "data": {
      "text/plain": [
       "(29337, 9779, 9779)"
      ]
     },
     "execution_count": 1193,
     "metadata": {},
     "output_type": "execute_result"
    }
   ],
   "source": [
    "len(df_train), len(df_val), len(df_test)"
   ]
  },
  {
   "cell_type": "code",
   "execution_count": 1194,
   "id": "4f59a3aa",
   "metadata": {},
   "outputs": [],
   "source": [
    "df_train = df_train.reset_index(drop=True)\n",
    "df_val = df_val.reset_index(drop=True)\n",
    "df_test = df_test.reset_index(drop=True)"
   ]
  },
  {
   "cell_type": "markdown",
   "id": "7207eb35",
   "metadata": {},
   "source": [
    "dropping index column from the dataset"
   ]
  },
  {
   "cell_type": "code",
   "execution_count": 1195,
   "id": "42fa90e3",
   "metadata": {},
   "outputs": [],
   "source": [
    "y_train = np.log1p(df_train.price.values)\n",
    "y_val = np.log1p(df_val.price.values)\n",
    "y_test = np.log1p(df_test.price.values)"
   ]
  },
  {
   "cell_type": "code",
   "execution_count": 1196,
   "id": "3af38d46",
   "metadata": {},
   "outputs": [],
   "source": [
    "del df_train['price']\n",
    "del df_val['price']\n",
    "del df_test['price']"
   ]
  },
  {
   "cell_type": "markdown",
   "id": "5f460ade",
   "metadata": {},
   "source": [
    "deleting the target(x) so that i dont acccidentally use it during the training "
   ]
  },
  {
   "cell_type": "code",
   "execution_count": 1197,
   "id": "176ac6d3",
   "metadata": {},
   "outputs": [
    {
     "data": {
      "text/plain": [
       "29337"
      ]
     },
     "execution_count": 1197,
     "metadata": {},
     "output_type": "execute_result"
    }
   ],
   "source": [
    "len(y_train)"
   ]
  },
  {
   "cell_type": "markdown",
   "id": "6db01a14",
   "metadata": {},
   "source": [
    "Training linear Regression\n",
    "* Typically, i shouldn't be doing this by hand; instead, i can just let a framework do this for me. In this chapter, however, i want to show that there is no magic inside these frameworks: it’s just code"
   ]
  },
  {
   "cell_type": "code",
   "execution_count": 1198,
   "id": "6bbddfbc",
   "metadata": {},
   "outputs": [
    {
     "data": {
      "text/plain": [
       "id                                                              34607651\n",
       "name                              comfortable_home_for_all_your_needs!!!\n",
       "host_id                                                        173311396\n",
       "host_name                                                          lyuba\n",
       "neighbourhood_group                                            manhattan\n",
       "neighbourhood                                                east_harlem\n",
       "latitude                                                        40.80013\n",
       "longitude                                                      -73.93742\n",
       "room_type                                                entire_home/apt\n",
       "minimum_nights                                                         1\n",
       "number_of_reviews                                                      5\n",
       "last_review                                                   2019-06-23\n",
       "reviews_per_month                                                   2.88\n",
       "calculated_host_listings_count                                         1\n",
       "availability_365                                                      21\n",
       "Name: 2, dtype: object"
      ]
     },
     "execution_count": 1198,
     "metadata": {},
     "output_type": "execute_result"
    }
   ],
   "source": [
    "df_train.iloc[2]"
   ]
  },
  {
   "cell_type": "markdown",
   "id": "f606461a",
   "metadata": {},
   "source": [
    "sighting minimum_nights, number_of_reviews and availability_365 as features to predict"
   ]
  },
  {
   "cell_type": "code",
   "execution_count": 1199,
   "id": "970c64d0",
   "metadata": {},
   "outputs": [],
   "source": [
    "xi = [1, 5, 337]\n",
    "w0 = 7.17\n",
    "w = [0.01, 0.04, 0.002]"
   ]
  },
  {
   "cell_type": "code",
   "execution_count": 1200,
   "id": "659b8f3d",
   "metadata": {},
   "outputs": [],
   "source": [
    "def linear_regression(xi):\n",
    "    \n",
    "    n = len(xi)\n",
    "    \n",
    "    pred = w0\n",
    "    \n",
    "    for j in range(n):\n",
    "        pred = pred + w[j] * xi[j]\n",
    "        \n",
    "    return pred"
   ]
  },
  {
   "cell_type": "code",
   "execution_count": 1201,
   "id": "216b93d9",
   "metadata": {},
   "outputs": [],
   "source": [
    "xi = [1, 5, 337]\n",
    "w0 = 7.17\n",
    "w = [0.01, 0.04, 0.002]"
   ]
  },
  {
   "cell_type": "code",
   "execution_count": 1202,
   "id": "fabcd94d",
   "metadata": {},
   "outputs": [
    {
     "data": {
      "text/plain": [
       "8.054"
      ]
     },
     "execution_count": 1202,
     "metadata": {},
     "output_type": "execute_result"
    }
   ],
   "source": [
    "linear_regression(xi)"
   ]
  },
  {
   "cell_type": "code",
   "execution_count": 1203,
   "id": "ce648d3e",
   "metadata": {},
   "outputs": [
    {
     "data": {
      "text/plain": [
       "np.float64(3145.3552549937476)"
      ]
     },
     "execution_count": 1203,
     "metadata": {},
     "output_type": "execute_result"
    }
   ],
   "source": [
    "np.expm1(8.054)"
   ]
  },
  {
   "cell_type": "code",
   "execution_count": 1204,
   "id": "62b1af58",
   "metadata": {},
   "outputs": [
    {
     "data": {
      "text/plain": [
       "np.float64(8.054)"
      ]
     },
     "execution_count": 1204,
     "metadata": {},
     "output_type": "execute_result"
    }
   ],
   "source": [
    "np.log1p(3145.3552549937476)"
   ]
  },
  {
   "cell_type": "markdown",
   "id": "c36c61ab",
   "metadata": {},
   "source": [
    "Vector Form"
   ]
  },
  {
   "cell_type": "code",
   "execution_count": 1205,
   "id": "a0d49d3d",
   "metadata": {},
   "outputs": [],
   "source": [
    "def dot(xi, w):\n",
    "    n = len(xi)\n",
    "    \n",
    "    res = 0.0\n",
    "    \n",
    "    for j in range(n):\n",
    "        res = res + w[j] * xi[j]\n",
    "    return res"
   ]
  },
  {
   "cell_type": "code",
   "execution_count": 1206,
   "id": "1421a075",
   "metadata": {},
   "outputs": [
    {
     "data": {
      "text/plain": [
       "[7.17, 0.01, 0.04, 0.002]"
      ]
     },
     "execution_count": 1206,
     "metadata": {},
     "output_type": "execute_result"
    }
   ],
   "source": [
    "w_new = [w0] + w\n",
    "w_new "
   ]
  },
  {
   "cell_type": "code",
   "execution_count": 1207,
   "id": "dcac5264",
   "metadata": {},
   "outputs": [],
   "source": [
    "def linear_regression(xi):\n",
    "    xi = [1] + xi\n",
    "    return dot(xi, w_new)"
   ]
  },
  {
   "cell_type": "code",
   "execution_count": 1208,
   "id": "d82ab374",
   "metadata": {},
   "outputs": [
    {
     "data": {
      "text/plain": [
       "8.054"
      ]
     },
     "execution_count": 1208,
     "metadata": {},
     "output_type": "execute_result"
    }
   ],
   "source": [
    "linear_regression(xi)"
   ]
  },
  {
   "cell_type": "code",
   "execution_count": 1209,
   "id": "fcdc3314",
   "metadata": {},
   "outputs": [
    {
     "data": {
      "text/plain": [
       "array([[  1,   1,   8, 144],\n",
       "       [  1, 132,  25, 310],\n",
       "       [  1,   1,   5, 337]])"
      ]
     },
     "execution_count": 1209,
     "metadata": {},
     "output_type": "execute_result"
    }
   ],
   "source": [
    "w0 = 7.17\n",
    "w = [0.01, 0.04, 0.002]\n",
    "w_new = [w0] + w \n",
    "\n",
    "x1 = [1, 1, 8, 144]\n",
    "x2 = [1, 132, 25, 310]\n",
    "x10 = [1, 1, 5, 337]\n",
    "\n",
    "X = [x1, x2, x10]\n",
    "X = np.array(X)\n",
    "X\n"
   ]
  },
  {
   "cell_type": "code",
   "execution_count": 1210,
   "id": "6b33c330",
   "metadata": {},
   "outputs": [
    {
     "data": {
      "text/plain": [
       "array([ 7.788, 10.11 ,  8.054])"
      ]
     },
     "execution_count": 1210,
     "metadata": {},
     "output_type": "execute_result"
    }
   ],
   "source": [
    "def linear_regression(X):\n",
    "    return X.dot(w_new)\n",
    "\n",
    "linear_regression(X)"
   ]
  },
  {
   "cell_type": "code",
   "execution_count": 1211,
   "id": "228dc800",
   "metadata": {},
   "outputs": [],
   "source": [
    "def train_linear_regression(X, y):\n",
    "    pass"
   ]
  },
  {
   "cell_type": "code",
   "execution_count": 1212,
   "id": "4f54d08f",
   "metadata": {},
   "outputs": [
    {
     "data": {
      "text/plain": [
       "array([[  1,   8, 144],\n",
       "       [132,  25, 310],\n",
       "       [  1,   5, 337],\n",
       "       [  3,  89, 365],\n",
       "       [  8,   8,  11],\n",
       "       [  2,   1,   0],\n",
       "       [  0,  16, 144],\n",
       "       [  3,   0,   0],\n",
       "       [  5,  10, 186]])"
      ]
     },
     "execution_count": 1212,
     "metadata": {},
     "output_type": "execute_result"
    }
   ],
   "source": [
    "X = [  [ 1,   8,  144],\n",
    "       [132,  25, 310],\n",
    "       [ 1,   5,  337],\n",
    "       [ 3,   89,  365],\n",
    "       [ 8,   8,   11],\n",
    "       [ 2,   1,    0],\n",
    "       [ 0,   16, 144],\n",
    "       [ 3,   0,    0],\n",
    "       [ 5,   10, 186]\n",
    "    ]\n",
    "X = np.array(X)\n",
    "X"
   ]
  },
  {
   "cell_type": "code",
   "execution_count": 1213,
   "id": "b2f0afce",
   "metadata": {},
   "outputs": [
    {
     "data": {
      "text/plain": [
       "array([1., 1., 1., 1., 1., 1., 1., 1., 1.])"
      ]
     },
     "execution_count": 1213,
     "metadata": {},
     "output_type": "execute_result"
    }
   ],
   "source": [
    "ones = np.ones(X.shape[0])\n",
    "ones"
   ]
  },
  {
   "cell_type": "code",
   "execution_count": 1214,
   "id": "c3771e3f",
   "metadata": {},
   "outputs": [],
   "source": [
    "X = (np.column_stack([ones, X]))"
   ]
  },
  {
   "cell_type": "code",
   "execution_count": 1215,
   "id": "c77d3b57",
   "metadata": {},
   "outputs": [],
   "source": [
    "y = [10000, 20000, 15000, 25000, 10000, 20000, 15000, 25000, 12000]"
   ]
  },
  {
   "cell_type": "code",
   "execution_count": 1216,
   "id": "a08ae96e",
   "metadata": {},
   "outputs": [],
   "source": [
    "def train_linear_regression(X, y):\n",
    "    ones = np.ones(X.shape[0])\n",
    "    X = np.column_stack([ones, X])\n",
    "\n",
    "    XTX = X.T.dot(X)\n",
    "    XTX_inv = np.linalg.inv(XTX)\n",
    "    w_full = XTX_inv.dot(X.T).dot(y)\n",
    "    \n",
    "    return w_full[0], w_full[1:]"
   ]
  },
  {
   "cell_type": "code",
   "execution_count": 1217,
   "id": "9ec4718b",
   "metadata": {},
   "outputs": [
    {
     "data": {
      "text/plain": [
       "(7.17, [0.01, 0.04, 0.002])"
      ]
     },
     "execution_count": 1217,
     "metadata": {},
     "output_type": "execute_result"
    }
   ],
   "source": [
    "w0, w"
   ]
  },
  {
   "cell_type": "markdown",
   "id": "60de7321",
   "metadata": {},
   "source": [
    "AIRBNB PRICE BASELINE"
   ]
  },
  {
   "cell_type": "code",
   "execution_count": 1218,
   "id": "d0b14516",
   "metadata": {},
   "outputs": [
    {
     "data": {
      "text/plain": [
       "id                                  int64\n",
       "name                               object\n",
       "host_id                             int64\n",
       "host_name                          object\n",
       "neighbourhood_group                object\n",
       "neighbourhood                      object\n",
       "latitude                          float64\n",
       "longitude                         float64\n",
       "room_type                          object\n",
       "minimum_nights                      int64\n",
       "number_of_reviews                   int64\n",
       "last_review                        object\n",
       "reviews_per_month                 float64\n",
       "calculated_host_listings_count      int64\n",
       "availability_365                    int64\n",
       "dtype: object"
      ]
     },
     "execution_count": 1218,
     "metadata": {},
     "output_type": "execute_result"
    }
   ],
   "source": [
    "df_train.dtypes"
   ]
  },
  {
   "cell_type": "markdown",
   "id": "08d4a98a",
   "metadata": {},
   "source": [
    "Building the model base on some selected feature from the columns partaining to the Airbnb."
   ]
  },
  {
   "cell_type": "code",
   "execution_count": 1219,
   "id": "5fbd9be3",
   "metadata": {},
   "outputs": [
    {
     "data": {
      "text/plain": [
       "Index(['id', 'name', 'host_id', 'host_name', 'neighbourhood_group',\n",
       "       'neighbourhood', 'latitude', 'longitude', 'room_type', 'minimum_nights',\n",
       "       'number_of_reviews', 'last_review', 'reviews_per_month',\n",
       "       'calculated_host_listings_count', 'availability_365'],\n",
       "      dtype='object')"
      ]
     },
     "execution_count": 1219,
     "metadata": {},
     "output_type": "execute_result"
    }
   ],
   "source": [
    "df_train.columns\n"
   ]
  },
  {
   "cell_type": "code",
   "execution_count": 1220,
   "id": "6e8c197f",
   "metadata": {},
   "outputs": [],
   "source": [
    "base_line = ['minimum_nights', 'calculated_host_listings_count',  'number_of_reviews', 'availability_365', 'reviews_per_month']"
   ]
  },
  {
   "cell_type": "code",
   "execution_count": 1221,
   "id": "65fff54a",
   "metadata": {},
   "outputs": [
    {
     "data": {
      "text/html": [
       "<div>\n",
       "<style scoped>\n",
       "    .dataframe tbody tr th:only-of-type {\n",
       "        vertical-align: middle;\n",
       "    }\n",
       "\n",
       "    .dataframe tbody tr th {\n",
       "        vertical-align: top;\n",
       "    }\n",
       "\n",
       "    .dataframe thead th {\n",
       "        text-align: right;\n",
       "    }\n",
       "</style>\n",
       "<table border=\"1\" class=\"dataframe\">\n",
       "  <thead>\n",
       "    <tr style=\"text-align: right;\">\n",
       "      <th></th>\n",
       "      <th>minimum_nights</th>\n",
       "      <th>calculated_host_listings_count</th>\n",
       "      <th>number_of_reviews</th>\n",
       "      <th>availability_365</th>\n",
       "      <th>reviews_per_month</th>\n",
       "    </tr>\n",
       "  </thead>\n",
       "  <tbody>\n",
       "    <tr>\n",
       "      <th>0</th>\n",
       "      <td>8</td>\n",
       "      <td>1</td>\n",
       "      <td>8</td>\n",
       "      <td>11</td>\n",
       "      <td>0.30</td>\n",
       "    </tr>\n",
       "    <tr>\n",
       "      <th>1</th>\n",
       "      <td>2</td>\n",
       "      <td>1</td>\n",
       "      <td>1</td>\n",
       "      <td>0</td>\n",
       "      <td>0.15</td>\n",
       "    </tr>\n",
       "    <tr>\n",
       "      <th>2</th>\n",
       "      <td>1</td>\n",
       "      <td>1</td>\n",
       "      <td>5</td>\n",
       "      <td>21</td>\n",
       "      <td>2.88</td>\n",
       "    </tr>\n",
       "    <tr>\n",
       "      <th>3</th>\n",
       "      <td>4</td>\n",
       "      <td>1</td>\n",
       "      <td>16</td>\n",
       "      <td>144</td>\n",
       "      <td>0.77</td>\n",
       "    </tr>\n",
       "    <tr>\n",
       "      <th>4</th>\n",
       "      <td>3</td>\n",
       "      <td>1</td>\n",
       "      <td>0</td>\n",
       "      <td>0</td>\n",
       "      <td>1.37</td>\n",
       "    </tr>\n",
       "    <tr>\n",
       "      <th>...</th>\n",
       "      <td>...</td>\n",
       "      <td>...</td>\n",
       "      <td>...</td>\n",
       "      <td>...</td>\n",
       "      <td>...</td>\n",
       "    </tr>\n",
       "    <tr>\n",
       "      <th>29332</th>\n",
       "      <td>29</td>\n",
       "      <td>1</td>\n",
       "      <td>5</td>\n",
       "      <td>2</td>\n",
       "      <td>0.08</td>\n",
       "    </tr>\n",
       "    <tr>\n",
       "      <th>29333</th>\n",
       "      <td>4</td>\n",
       "      <td>1</td>\n",
       "      <td>45</td>\n",
       "      <td>87</td>\n",
       "      <td>0.75</td>\n",
       "    </tr>\n",
       "    <tr>\n",
       "      <th>29334</th>\n",
       "      <td>3</td>\n",
       "      <td>1</td>\n",
       "      <td>0</td>\n",
       "      <td>0</td>\n",
       "      <td>1.37</td>\n",
       "    </tr>\n",
       "    <tr>\n",
       "      <th>29335</th>\n",
       "      <td>2</td>\n",
       "      <td>1</td>\n",
       "      <td>12</td>\n",
       "      <td>320</td>\n",
       "      <td>0.27</td>\n",
       "    </tr>\n",
       "    <tr>\n",
       "      <th>29336</th>\n",
       "      <td>14</td>\n",
       "      <td>28</td>\n",
       "      <td>4</td>\n",
       "      <td>341</td>\n",
       "      <td>0.25</td>\n",
       "    </tr>\n",
       "  </tbody>\n",
       "</table>\n",
       "<p>29337 rows × 5 columns</p>\n",
       "</div>"
      ],
      "text/plain": [
       "       minimum_nights  calculated_host_listings_count  number_of_reviews  \\\n",
       "0                   8                               1                  8   \n",
       "1                   2                               1                  1   \n",
       "2                   1                               1                  5   \n",
       "3                   4                               1                 16   \n",
       "4                   3                               1                  0   \n",
       "...               ...                             ...                ...   \n",
       "29332              29                               1                  5   \n",
       "29333               4                               1                 45   \n",
       "29334               3                               1                  0   \n",
       "29335               2                               1                 12   \n",
       "29336              14                              28                  4   \n",
       "\n",
       "       availability_365  reviews_per_month  \n",
       "0                    11               0.30  \n",
       "1                     0               0.15  \n",
       "2                    21               2.88  \n",
       "3                   144               0.77  \n",
       "4                     0               1.37  \n",
       "...                 ...                ...  \n",
       "29332                 2               0.08  \n",
       "29333                87               0.75  \n",
       "29334                 0               1.37  \n",
       "29335               320               0.27  \n",
       "29336               341               0.25  \n",
       "\n",
       "[29337 rows x 5 columns]"
      ]
     },
     "execution_count": 1221,
     "metadata": {},
     "output_type": "execute_result"
    }
   ],
   "source": [
    "df_train[base_line]"
   ]
  },
  {
   "cell_type": "markdown",
   "id": "3aa85a74",
   "metadata": {},
   "source": [
    "what i will need to do is to extract values from the features above"
   ]
  },
  {
   "cell_type": "code",
   "execution_count": 1222,
   "id": "b36f8e1d",
   "metadata": {},
   "outputs": [],
   "source": [
    "X_train = df_train[base_line].fillna(0).values\n",
    "w0, w = train_linear_regression(X_train, y_train)\n",
    "y_pred = w0 + X_train.dot(w)"
   ]
  },
  {
   "cell_type": "code",
   "execution_count": 1223,
   "id": "ca3f0c91",
   "metadata": {},
   "outputs": [
    {
     "data": {
      "text/plain": [
       "(np.float64(4.704463221034256),\n",
       " array([ 0.00016023,  0.00229607, -0.0004619 ,  0.00044926, -0.01545233]))"
      ]
     },
     "execution_count": 1223,
     "metadata": {},
     "output_type": "execute_result"
    }
   ],
   "source": [
    "w0, w"
   ]
  },
  {
   "cell_type": "code",
   "execution_count": 1224,
   "id": "ede1fa87",
   "metadata": {},
   "outputs": [
    {
     "data": {
      "text/plain": [
       "<matplotlib.legend.Legend at 0x231454d64e0>"
      ]
     },
     "execution_count": 1224,
     "metadata": {},
     "output_type": "execute_result"
    },
    {
     "data": {
      "image/png": "[encoded data removed]",
      "text/plain": [
       "<Figure size 640x480 with 1 Axes>"
      ]
     },
     "metadata": {},
     "output_type": "display_data"
    }
   ],
   "source": [
    "sns.histplot(y_pred, color='red', label='prediction', alpha=0.5, bins=50)\n",
    "sns.histplot(y_train, color='blue', label='target', alpha=0.5, bins=50)\n",
    "plt.legend()"
   ]
  },
  {
   "cell_type": "raw",
   "id": "a3659d2a",
   "metadata": {},
   "source": [
    "EVALUATION METRICS"
   ]
  },
  {
   "cell_type": "code",
   "execution_count": 1225,
   "id": "9c86b2a2",
   "metadata": {},
   "outputs": [],
   "source": [
    "#def rmse(y, y_pred):\n",
    "#    se = (y - y_pred) ** 2\n",
    "#    mse = se.mean()\n",
    "#    return np.sqrt(mse)"
   ]
  },
  {
   "cell_type": "code",
   "execution_count": 1226,
   "id": "377e1b01",
   "metadata": {},
   "outputs": [],
   "source": [
    "def rmse(y, y_pred):\n",
    "    error = y_pred - y \n",
    "    mse = (error ** 2).mean() \n",
    "    return np.sqrt(mse)"
   ]
  },
  {
   "cell_type": "code",
   "execution_count": 1227,
   "id": "8b769ef4",
   "metadata": {},
   "outputs": [
    {
     "data": {
      "text/plain": [
       "np.float64(0.69)"
      ]
     },
     "execution_count": 1227,
     "metadata": {},
     "output_type": "execute_result"
    }
   ],
   "source": [
    "rmmse_score = rmse(y_train, y_pred)\n",
    "round(rmmse_score, 2)"
   ]
  },
  {
   "cell_type": "markdown",
   "id": "fc498152",
   "metadata": {},
   "source": [
    "VALIDATION FRAMEWORK"
   ]
  },
  {
   "cell_type": "code",
   "execution_count": 1228,
   "id": "3ed8c6f1",
   "metadata": {},
   "outputs": [],
   "source": [
    "def prepare_X(df):\n",
    "    df_new = df[base_line]\n",
    "    df_new = df_new.fillna(0)\n",
    "    X = df_new.values\n",
    "    return X"
   ]
  },
  {
   "cell_type": "code",
   "execution_count": 1229,
   "id": "7ee042e0",
   "metadata": {},
   "outputs": [
    {
     "data": {
      "text/plain": [
       "np.float64(308.9974772164405)"
      ]
     },
     "execution_count": 1229,
     "metadata": {},
     "output_type": "execute_result"
    }
   ],
   "source": [
    "X_train = prepare_X(df_train)\n",
    "w0, w = train_linear_regression(X_train, y_train) # training part\n",
    "\n",
    "X_val = prepare_X(df_val) # validation part\n",
    "y_pred = w0 + X_val.dot(w0)\n",
    "\n",
    "rmse(X_val, y_pred)"
   ]
  },
  {
   "cell_type": "code",
   "execution_count": 1230,
   "id": "78e8947b",
   "metadata": {},
   "outputs": [],
   "source": [
    "y_pred = w0 + X_val.dot(w)"
   ]
  },
  {
   "cell_type": "code",
   "execution_count": 1231,
   "id": "aa02ef09",
   "metadata": {},
   "outputs": [
    {
     "data": {
      "text/plain": [
       "np.float64(0.6841027432675146)"
      ]
     },
     "execution_count": 1231,
     "metadata": {},
     "output_type": "execute_result"
    }
   ],
   "source": [
    "rmse(y_val, y_pred)"
   ]
  },
  {
   "cell_type": "code",
   "execution_count": 1232,
   "id": "13d3c81a",
   "metadata": {},
   "outputs": [],
   "source": [
    "base_line = ['minimum_nights', 'calculated_host_listings_count',  'number_of_reviews', 'availability_365', 'reviews_per_month']\n",
    "\n",
    "X_train = df_train[base_line].fillna(0).values\n",
    "\n",
    "w0, w = train_linear_regression(X_train, y_train)\n",
    "\n",
    "y_pred = w0 + X_train.dot(w0)"
   ]
  },
  {
   "cell_type": "markdown",
   "id": "cd16f920",
   "metadata": {},
   "source": [
    "FEATURE ENGINEERING\n",
    "* To create or add feature that will improve evaluation score of the model."
   ]
  },
  {
   "cell_type": "code",
   "execution_count": 1233,
   "id": "f632da02",
   "metadata": {},
   "outputs": [],
   "source": [
    "def prepare_X(df):\n",
    "    df = df.copy()\n",
    "    features = base_line.copy()\n",
    "    \n",
    "    features = base_line + ['latitude', 'longitude']\n",
    "    \n",
    "    df_new = df[features]\n",
    "    df_new = df_new.fillna(0)\n",
    "    X = df_new.values\n",
    "    \n",
    "    return X"
   ]
  },
  {
   "cell_type": "code",
   "execution_count": 1234,
   "id": "5a986450",
   "metadata": {},
   "outputs": [
    {
     "data": {
      "text/plain": [
       "np.float64(0.6476344610295429)"
      ]
     },
     "execution_count": 1234,
     "metadata": {},
     "output_type": "execute_result"
    }
   ],
   "source": [
    "X_train = prepare_X(df_train)\n",
    "w0, w = train_linear_regression(X_train, y_train)\n",
    "\n",
    "X_val = prepare_X(df_val)\n",
    "y_pred = w0 + X_val.dot(w)\n",
    "rmse(y_val, y_pred)"
   ]
  },
  {
   "cell_type": "code",
   "execution_count": 1235,
   "id": "24a2b3d2",
   "metadata": {},
   "outputs": [
    {
     "data": {
      "text/plain": [
       "<matplotlib.legend.Legend at 0x2313b694ce0>"
      ]
     },
     "execution_count": 1235,
     "metadata": {},
     "output_type": "execute_result"
    },
    {
     "data": {
      "image/png": "[encoded data removed]",
      "text/plain": [
       "<Figure size 640x480 with 1 Axes>"
      ]
     },
     "metadata": {},
     "output_type": "display_data"
    }
   ],
   "source": [
    "sns.histplot(y_pred, label='prediction')\n",
    "sns.histplot(y_val, label='target')\n",
    "plt.legend()"
   ]
  },
  {
   "cell_type": "markdown",
   "id": "60e0d867",
   "metadata": {},
   "source": [
    "Thus, i conclude that adding 'latitude' and 'longitude' is indeed helpful\n",
    "when making predictions.\n",
    "We can also look at the distribution of the predicted values"
   ]
  },
  {
   "cell_type": "markdown",
   "id": "e6d975bf",
   "metadata": {},
   "source": [
    "CATEGORICAL VARIABLE"
   ]
  },
  {
   "cell_type": "code",
   "execution_count": 1236,
   "id": "2ff9ec6a",
   "metadata": {},
   "outputs": [],
   "source": [
    "categorical_columns = [ 'neighbourhood_group', 'name', 'host_name', 'neighbourhood', 'room_type' ]\n",
    "\n",
    "categorical = {}\n",
    "\n",
    "for c in categorical_columns:\n",
    "    categorical[c] = list(df_train[c].value_counts().head().index)"
   ]
  },
  {
   "cell_type": "code",
   "execution_count": 1237,
   "id": "8580392d",
   "metadata": {},
   "outputs": [],
   "source": [
    "def prepare_X(df):\n",
    "    df = df.copy()\n",
    "\n",
    "    features = base_line + ['latitude', 'longitude']\n",
    "    \n",
    "    for v in ['manhattan', 'brooklyn', 'queens']: \n",
    "        feature = 'is_neighbourhood_%s' % v\n",
    "        df[feature] = (df['neighbourhood_group'] == v).astype(int)\n",
    "        features.append(feature)\n",
    "    \n",
    "    for name, values in categorical.items():\n",
    "        for value in values: \n",
    "            df['%s_%s' % (name, value)] = (df[name] == value).astype(int)\n",
    "            features.append('%s_%s' % (name, value))    \n",
    "\n",
    "\n",
    "    df_new = df[features] \n",
    "    df_new = df_new.fillna(0)\n",
    "    X = df_new.values\n",
    "    return X"
   ]
  },
  {
   "cell_type": "code",
   "execution_count": 1238,
   "id": "95718ba9",
   "metadata": {},
   "outputs": [
    {
     "name": "stdout",
     "output_type": "stream",
     "text": [
      "validation: 1586066.3306248917\n"
     ]
    }
   ],
   "source": [
    "X_train = prepare_X(df_train)\n",
    "w_0, w = train_linear_regression(X_train, y_train)\n",
    "\n",
    "X_val = prepare_X(df_val)\n",
    "y_pred = w_0 + X_val.dot(w)\n",
    "print('validation:', rmse(y_val, y_pred))"
   ]
  },
  {
   "cell_type": "code",
   "execution_count": 1239,
   "id": "00a554d1",
   "metadata": {},
   "outputs": [
    {
     "data": {
      "text/plain": [
       "(np.float64(-426.4530653596348),\n",
       " array([-2.08639115e+03, -5.81997334e+03,  2.10130773e+03, -5.43949680e+02,\n",
       "        -1.21045588e+05,  4.84093664e+06,  8.79486031e+06,  4.61176801e+17,\n",
       "        -2.18810818e+19,  1.08892757e+18, -4.60907342e+17,  2.18813513e+19,\n",
       "        -1.08865811e+18,  2.69459419e+14,  2.69459419e+14, -1.76538033e+03,\n",
       "         2.77362992e+03, -1.26576275e+03, -6.00869335e+03,  1.80540862e+03,\n",
       "         4.92164164e+01,  3.18470132e+02,  3.82979568e+02,  6.91221444e+00,\n",
       "         5.05889053e+01,  1.03179787e+02, -1.66249619e+03, -5.05935542e+03,\n",
       "        -1.14338929e+03,  7.51206632e+02,  2.41921713e+02, -3.49612112e+01,\n",
       "         4.25443829e+01]))"
      ]
     },
     "execution_count": 1239,
     "metadata": {},
     "output_type": "execute_result"
    }
   ],
   "source": [
    "w0, w"
   ]
  },
  {
   "cell_type": "markdown",
   "id": "f728d6ef",
   "metadata": {},
   "source": [
    "REGULARIZATION\n",
    "* I saw that adding new features does not always help, and in this case, it made things a lot worse. \n",
    "* The reason for this behavior is numerical instability."
   ]
  },
  {
   "cell_type": "code",
   "execution_count": 1240,
   "id": "ac83ece7",
   "metadata": {},
   "outputs": [
    {
     "data": {
      "text/plain": [
       "array([[4.        , 4.        , 4.        ],\n",
       "       [3.        , 5.        , 5.        ],\n",
       "       [5.        , 1.        , 1.        ],\n",
       "       [5.        , 4.        , 4.        ],\n",
       "       [7.        , 5.        , 5.        ],\n",
       "       [4.        , 5.        , 5.00000001]])"
      ]
     },
     "execution_count": 1240,
     "metadata": {},
     "output_type": "execute_result"
    }
   ],
   "source": [
    "X = [\n",
    "    [4, 4, 4],\n",
    "    [3, 5, 5],\n",
    "    [5, 1, 1],\n",
    "    [5, 4, 4],\n",
    "    [7, 5, 5],\n",
    "    [4, 5, 5.00000001]\n",
    "]\n",
    "\n",
    "X = np.array(X)\n",
    "X"
   ]
  },
  {
   "cell_type": "code",
   "execution_count": 1241,
   "id": "d1f73ace",
   "metadata": {},
   "outputs": [],
   "source": [
    "y = [1, 2, 3, 1, 2, 3]"
   ]
  },
  {
   "cell_type": "code",
   "execution_count": 1242,
   "id": "f645af09",
   "metadata": {},
   "outputs": [],
   "source": [
    "def train_linear_regression_reg(X, y, r=0.001):\n",
    "    ones = np.ones(X.shape[0])\n",
    "    X = np.column_stack([ones, X])\n",
    "\n",
    "    XTX = X.T.dot(X)\n",
    "    XTX = XTX + r * np.eye(XTX.shape[0])\n",
    "    \n",
    "    XTX_inv = np.linalg.inv(XTX)\n",
    "    w_full = XTX_inv.dot(X.T).dot(y)\n",
    "    \n",
    "    return w_full[0], w_full[1:]"
   ]
  },
  {
   "cell_type": "code",
   "execution_count": 1243,
   "id": "c947d9e2",
   "metadata": {},
   "outputs": [
    {
     "data": {
      "text/plain": [
       "np.float64(0.48511577902826936)"
      ]
     },
     "execution_count": 1243,
     "metadata": {},
     "output_type": "execute_result"
    }
   ],
   "source": [
    "X_train = prepare_X(df_train)\n",
    "w0, w = train_linear_regression_reg(X_train, y_train)\n",
    "\n",
    "X_val = prepare_X(df_val)\n",
    "y_pred = w0 + X_val.dot(w)\n",
    "rmse(y_val, y_pred)"
   ]
  },
  {
   "cell_type": "markdown",
   "id": "b9c5cdc9",
   "metadata": {},
   "source": [
    "TUNING MODEL"
   ]
  },
  {
   "cell_type": "code",
   "execution_count": 1244,
   "id": "ebd00e1c",
   "metadata": {},
   "outputs": [
    {
     "name": "stdout",
     "output_type": "stream",
     "text": [
      "   0.0 1586066.3306248917\n",
      " 1e-05 0.48518929497712554\n",
      "0.0001 0.4851727291246261\n",
      " 0.001 0.48511577902826936\n",
      "  0.01 0.48585070190806406\n",
      "     1 0.48691875124363865\n",
      "    10 0.48689294406412786\n",
      "   100 0.48873470307726974\n",
      "  1000 0.49668624588697036\n"
     ]
    }
   ],
   "source": [
    "for r in [ 0.0, 0.00001, 0.0001, 0.001, 0.01, 1, 10, 100, 1000]:\n",
    "    X_train = prepare_X(df_train)\n",
    "    w0, w = train_linear_regression_reg(X_train, y_train, r=r)\n",
    "\n",
    "    X_val = prepare_X(df_val)\n",
    "    y_pred = w0 + X_val.dot(w)\n",
    "    score = rmse(y_val, y_pred)\n",
    "\n",
    "    print('%6s' %r, rmse(y_val, y_pred))"
   ]
  },
  {
   "cell_type": "markdown",
   "id": "d448c23f",
   "metadata": {},
   "source": [
    "* Also you will notice a trend that the performance for values below 0.1 don’t change much except in the sixth digit, which we shouldn’t consider to be significant."
   ]
  },
  {
   "cell_type": "code",
   "execution_count": 1245,
   "id": "8164441c",
   "metadata": {},
   "outputs": [
    {
     "name": "stdout",
     "output_type": "stream",
     "text": [
      "validation: 0.48585070190806406\n",
      "test: 0.48830337179836386\n"
     ]
    }
   ],
   "source": [
    "X_train = prepare_X(df_train)\n",
    "w_0, w = train_linear_regression_reg(X_train, y_train, r=0.01)\n",
    "X_val = prepare_X(df_val)\n",
    "\n",
    "y_pred = w_0 + X_val.dot(w)\n",
    "print('validation:', rmse(y_val, y_pred))\n",
    "\n",
    "X_test = prepare_X(df_test)\n",
    "y_pred = w_0 + X_test.dot(w)\n",
    "print('test:', rmse(y_test, y_pred))"
   ]
  },
  {
   "cell_type": "markdown",
   "id": "0c7c8e96",
   "metadata": {},
   "source": [
    "pretty close, i can conclude that the model can general\u0002ize well to the new unseen data. "
   ]
  },
  {
   "cell_type": "markdown",
   "id": "05b70d14",
   "metadata": {},
   "source": [
    "USING THE MODEL"
   ]
  },
  {
   "cell_type": "code",
   "execution_count": 1246,
   "id": "17283fb0",
   "metadata": {},
   "outputs": [
    {
     "name": "stdout",
     "output_type": "stream",
     "text": [
      "Min price: 3124751250517570.5\n",
      "Max price: 3.0046734416363196e+16\n",
      "Mean price: 1.2975880737299934e+16\n"
     ]
    }
   ],
   "source": [
    "X_test = prepare_X(df_test)\n",
    "\n",
    "# Predict\n",
    "y_pred = w0 + X_test.dot(w)\n",
    "\n",
    "# If log-transformed during training\n",
    "y_pred_real = np.expm1(y_pred)\n",
    "\n",
    "# See the range\n",
    "print(\"Min price:\", round(y_pred_real.min(), 2))\n",
    "print(\"Max price:\", round(y_pred_real.max(), 2))\n",
    "print(\"Mean price:\", round(y_pred_real.mean(), 2))\n"
   ]
  },
  {
   "cell_type": "code",
   "execution_count": 1247,
   "id": "13170272",
   "metadata": {},
   "outputs": [
    {
     "data": {
      "image/png": "[encoded data removed]",
      "text/plain": [
       "<Figure size 1000x400 with 1 Axes>"
      ]
     },
     "metadata": {},
     "output_type": "display_data"
    }
   ],
   "source": [
    "import matplotlib.pyplot as plt\n",
    "\n",
    "plt.figure(figsize=(10, 4))\n",
    "plt.hist(y_pred_real, bins=50, color='skyblue', edgecolor='black')\n",
    "plt.title('Distribution of Predicted Airbnb Prices')\n",
    "plt.xlabel('Price ($/night)')\n",
    "plt.ylabel('Number of listings')\n",
    "plt.grid(True)\n",
    "plt.show()\n"
   ]
  },
  {
   "cell_type": "markdown",
   "id": "c5497c0a",
   "metadata": {},
   "source": [
    "suggesting amount of vacation home on airbnb websites for a user "
   ]
  },
  {
   "cell_type": "code",
   "execution_count": 1248,
   "id": "d64814b6",
   "metadata": {},
   "outputs": [
    {
     "data": {
      "text/plain": [
       "{'id': 19171294,\n",
       " 'name': 'private_bedroom_w/desk_and_fridge,_close_to_jfk',\n",
       " 'host_id': 134070513,\n",
       " 'host_name': 'conrad',\n",
       " 'neighbourhood_group': 'queens',\n",
       " 'neighbourhood': 'cambria_heights',\n",
       " 'latitude': 40.70133,\n",
       " 'longitude': -73.74212,\n",
       " 'room_type': 'private_room',\n",
       " 'minimum_nights': 1,\n",
       " 'number_of_reviews': 2,\n",
       " 'last_review': '2018-07-27',\n",
       " 'reviews_per_month': 0.17,\n",
       " 'calculated_host_listings_count': 1,\n",
       " 'availability_365': 37}"
      ]
     },
     "execution_count": 1248,
     "metadata": {},
     "output_type": "execute_result"
    }
   ],
   "source": [
    "df = df_test.iloc[-1].to_dict()\n",
    "df"
   ]
  },
  {
   "cell_type": "code",
   "execution_count": 1249,
   "id": "49d80514",
   "metadata": {},
   "outputs": [],
   "source": [
    "end_user = {'id': 34940602,\n",
    " 'name': 'perfect_peace_private_room_in_brooklyn',\n",
    " 'host_id': 263282580,\n",
    " 'host_name': 'caritas',\n",
    " 'neighbourhood_group': 'brooklyn',\n",
    " 'neighbourhood': 'bedford-stuyvesant',\n",
    " 'latitude': 40.69593,\n",
    " 'longitude': -73.93503,\n",
    " 'room_type': 'private_room',\n",
    " 'minimum_nights': 2,\n",
    " 'number_of_reviews': 2,\n",
    " 'last_review': '2019-05-26',\n",
    " 'reviews_per_month': 1.25,\n",
    " 'calculated_host_listings_count': 2,\n",
    " 'availability_365': 171}"
   ]
  },
  {
   "cell_type": "code",
   "execution_count": 1250,
   "id": "8590c46e",
   "metadata": {},
   "outputs": [
    {
     "data": {
      "text/html": [
       "<div>\n",
       "<style scoped>\n",
       "    .dataframe tbody tr th:only-of-type {\n",
       "        vertical-align: middle;\n",
       "    }\n",
       "\n",
       "    .dataframe tbody tr th {\n",
       "        vertical-align: top;\n",
       "    }\n",
       "\n",
       "    .dataframe thead th {\n",
       "        text-align: right;\n",
       "    }\n",
       "</style>\n",
       "<table border=\"1\" class=\"dataframe\">\n",
       "  <thead>\n",
       "    <tr style=\"text-align: right;\">\n",
       "      <th></th>\n",
       "      <th>id</th>\n",
       "      <th>name</th>\n",
       "      <th>host_id</th>\n",
       "      <th>host_name</th>\n",
       "      <th>neighbourhood_group</th>\n",
       "      <th>neighbourhood</th>\n",
       "      <th>latitude</th>\n",
       "      <th>longitude</th>\n",
       "      <th>room_type</th>\n",
       "      <th>minimum_nights</th>\n",
       "      <th>number_of_reviews</th>\n",
       "      <th>last_review</th>\n",
       "      <th>reviews_per_month</th>\n",
       "      <th>calculated_host_listings_count</th>\n",
       "      <th>availability_365</th>\n",
       "    </tr>\n",
       "  </thead>\n",
       "  <tbody>\n",
       "    <tr>\n",
       "      <th>0</th>\n",
       "      <td>34940602</td>\n",
       "      <td>perfect_peace_private_room_in_brooklyn</td>\n",
       "      <td>263282580</td>\n",
       "      <td>caritas</td>\n",
       "      <td>brooklyn</td>\n",
       "      <td>bedford-stuyvesant</td>\n",
       "      <td>40.69593</td>\n",
       "      <td>-73.93503</td>\n",
       "      <td>private_room</td>\n",
       "      <td>2</td>\n",
       "      <td>2</td>\n",
       "      <td>2019-05-26</td>\n",
       "      <td>1.25</td>\n",
       "      <td>2</td>\n",
       "      <td>171</td>\n",
       "    </tr>\n",
       "  </tbody>\n",
       "</table>\n",
       "</div>"
      ],
      "text/plain": [
       "         id                                    name    host_id host_name  \\\n",
       "0  34940602  perfect_peace_private_room_in_brooklyn  263282580   caritas   \n",
       "\n",
       "  neighbourhood_group       neighbourhood  latitude  longitude     room_type  \\\n",
       "0            brooklyn  bedford-stuyvesant  40.69593  -73.93503  private_room   \n",
       "\n",
       "   minimum_nights  number_of_reviews last_review  reviews_per_month  \\\n",
       "0               2                  2  2019-05-26               1.25   \n",
       "\n",
       "   calculated_host_listings_count  availability_365  \n",
       "0                               2               171  "
      ]
     },
     "execution_count": 1250,
     "metadata": {},
     "output_type": "execute_result"
    }
   ],
   "source": [
    "df_test = pd.DataFrame([end_user])\n",
    "df_test"
   ]
  },
  {
   "cell_type": "code",
   "execution_count": 1251,
   "id": "28a61e02",
   "metadata": {},
   "outputs": [],
   "source": [
    "X_test = prepare_X(df_test)\n",
    "y_pred = w_0 + X_test.dot(w)"
   ]
  },
  {
   "cell_type": "code",
   "execution_count": 1252,
   "id": "167db84b",
   "metadata": {},
   "outputs": [
    {
     "data": {
      "text/plain": [
       "array([65.10415837])"
      ]
     },
     "execution_count": 1252,
     "metadata": {},
     "output_type": "execute_result"
    }
   ],
   "source": [
    "suggestion = np.expm1(y_pred)\n",
    "suggestion"
   ]
  },
  {
   "cell_type": "code",
   "execution_count": 1253,
   "id": "31f0ddf0",
   "metadata": {},
   "outputs": [
    {
     "name": "stdout",
     "output_type": "stream",
     "text": [
      "Model saved to airbnb-model.bin\n"
     ]
    }
   ],
   "source": [
    "import pickle\n",
    "\n",
    "model_file = 'airbnb-model.bin'\n",
    "\n",
    "model_data = {\n",
    "    'w0': w_0,\n",
    "    'w': w,\n",
    "    'baseline': base_line,\n",
    "    'categorical': categorical\n",
    "}\n",
    "\n",
    "with open(model_file, 'wb') as f_out:\n",
    "    pickle.dump(model_data, f_out)\n",
    "\n",
    "print(f\"Model saved to {model_file}\")\n"
   ]
  },
  {
   "cell_type": "code",
   "execution_count": null,
   "id": "dc919602",
   "metadata": {},
   "outputs": [],
   "source": []
  }
 ],
 "metadata": {
  "kernelspec": {
   "display_name": "Python 3",
   "language": "python",
   "name": "python3"
  },
  "language_info": {
   "codemirror_mode": {
    "name": "ipython",
    "version": 3
   },
   "file_extension": ".py",
   "mimetype": "text/x-python",
   "name": "python",
   "nbconvert_exporter": "python",
   "pygments_lexer": "ipython3",
   "version": "3.12.9"
  }
 },
 "nbformat": 4,
 "nbformat_minor": 5
}
